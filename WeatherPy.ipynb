{
 "cells": [
  {
   "cell_type": "markdown",
   "metadata": {},
   "source": [
    "# WeatherPy\n",
    "----\n",
    "\n",
    "#### Note\n",
    "* Instructions have been included for each segment. You do not have to follow them exactly, but they are included to help you think through the steps."
   ]
  },
  {
   "cell_type": "code",
   "execution_count": 4,
   "metadata": {
    "scrolled": true
   },
   "outputs": [],
   "source": [
    "# Dependencies and Setup\n",
    "import matplotlib.pyplot as plt\n",
    "import pandas as pd\n",
    "import numpy as np\n",
    "import requests\n",
    "import time\n",
    "from scipy.stats import linregress\n",
    "import json\n",
    "\n",
    "# Import API key\n",
    "from api_keys import weather_api_key\n",
    "\n",
    "# Incorporated citipy to determine city based on latitude and longitude\n",
    "from citipy import citipy\n",
    "\n",
    "#ask gretel if this is needed\n",
    "# Output File (CSV)\n",
    "#output_data_file = \"output_data/cities.csv\"\n",
    "\n",
    "# Range of latitudes and longitudes\n",
    "lat_range = (-90, 90)\n",
    "lng_range = (-180, 180)"
   ]
  },
  {
   "cell_type": "markdown",
   "metadata": {},
   "source": [
    "## Generate Cities List"
   ]
  },
  {
   "cell_type": "code",
   "execution_count": 5,
   "metadata": {},
   "outputs": [
    {
     "data": {
      "text/plain": [
       "599"
      ]
     },
     "execution_count": 5,
     "metadata": {},
     "output_type": "execute_result"
    }
   ],
   "source": [
    "# List for holding lat_lngs and cities\n",
    "lat_lngs = []\n",
    "cities = []\n",
    "\n",
    "# Create a set of random lat and lng combinations\n",
    "lats = np.random.uniform(lat_range[0], lat_range[1], size=1500)\n",
    "lngs = np.random.uniform(lng_range[0], lng_range[1], size=1500)\n",
    "lat_lngs = zip(lats, lngs)\n",
    "\n",
    "# Identify nearest city for each lat, lng combination\n",
    "for lat_lng in lat_lngs:\n",
    "    city = citipy.nearest_city(lat_lng[0], lat_lng[1]).city_name\n",
    "    \n",
    "    # If the city is unique, then add it to a our cities list\n",
    "    if city not in cities:\n",
    "        cities.append(city)\n",
    "\n",
    "# Print the city count to confirm sufficient count\n",
    "len(cities)"
   ]
  },
  {
   "cell_type": "markdown",
   "metadata": {},
   "source": [
    "### Perform API Calls\n",
    "* Perform a weather check on each city using a series of successive API calls.\n",
    "* Include a print log of each city as it'sbeing processed (with the city number and city name).\n",
    "\n",
    "> **HINT:** The OpenWeatherMap API only allows 60 calls per minute under their free plan. Try using `time.sleep(60)` after each set of 50 cities to avoid API errors due to large calls."
   ]
  },
  {
   "cell_type": "code",
   "execution_count": 6,
   "metadata": {
    "scrolled": true
   },
   "outputs": [
    {
     "name": "stdout",
     "output_type": "stream",
     "text": [
      "http://api.openweathermap.org/data/2.5/weather?appid=15cb2043ba0bca628bcbf44aa8cd6e24&q=\n"
     ]
    }
   ],
   "source": [
    "url = \"http://api.openweathermap.org/data/2.5/weather?\"\n",
    "\n",
    "# Build query URL\n",
    "query_url = url + \"appid=\" + weather_api_key + \"&q=\"\n",
    "\n",
    "print(query_url)\n"
   ]
  },
  {
   "cell_type": "code",
   "execution_count": 7,
   "metadata": {},
   "outputs": [
    {
     "name": "stdout",
     "output_type": "stream",
     "text": [
      "Retrieving record 1: Hasaki.\n",
      "Retrieving record 2: Barrow.\n",
      "Retrieving record 3: Albany.\n",
      "Retrieving record 4: Dunedin.\n",
      "Retrieving record 5: Ushuaia.\n",
      "Retrieving record 6: Bethel.\n",
      "Retrieving record 7: Clyde River.\n",
      "Retrieving record 8: Krasnyy Kholm.\n",
      "Retrieving record 9: Mahébourg.\n",
      "Retrieving record 10: Dolores.\n",
      "Retrieving record 11: Nouna.\n",
      "Retrieving record 12: Wellington.\n",
      "Retrieving record 13: Arraial do Cabo.\n",
      "Retrieving record 14: Nouadhibou.\n",
      "Retrieving record 15: The Pas.\n",
      "Retrieving record 16: Narsaq.\n",
      "Retrieving record 17: Tabuk.\n",
      "Retrieving record 18: Vaitape.\n",
      "Retrieving record 19: Busselton.\n",
      "Retrieving record 20: Hermanus.\n",
      "Retrieving record 21: Yellowknife.\n",
      "Retrieving record 22: Tyukalinsk.\n",
      "Retrieving record 23: Laas.\n",
      "Retrieving record 24: Margate.\n",
      "Retrieving record 25: Kaitangata.\n",
      "Retrieving record 26: Palana.\n",
      "Retrieving record 27: Esperance.\n",
      "City not found. Skipping...\n",
      "Retrieving record 28: Castro.\n",
      "Retrieving record 29: Puerto Ayora.\n",
      "Retrieving record 30: Port Alfred.\n",
      "Retrieving record 31: Carnarvon.\n",
      "Retrieving record 32: Vaini.\n",
      "Retrieving record 33: Cape Town.\n",
      "Retrieving record 34: Isil'kul'.\n",
      "Retrieving record 35: Tasiilaq.\n",
      "Retrieving record 36: Umm Bāb.\n",
      "City not found. Skipping...\n",
      "Retrieving record 37: Chiang Klang.\n",
      "Retrieving record 38: Punta Arenas.\n",
      "Retrieving record 39: Bredasdorp.\n",
      "Retrieving record 40: Poum.\n",
      "Retrieving record 41: Vila Franca do Campo.\n",
      "Retrieving record 42: Ossora.\n",
      "City not found. Skipping...\n",
      "Retrieving record 43: Jamestown.\n",
      "Retrieving record 44: Saint Paul Harbor.\n",
      "Retrieving record 45: Rikitea.\n",
      "Retrieving record 46: Kavieng.\n",
      "Retrieving record 47: Leningradskiy.\n",
      "Retrieving record 48: Chui.\n",
      "Retrieving record 49: Cajamarca.\n",
      "Retrieving record 50: Coos Bay.\n",
      "Retrieving record 51: Thompson.\n",
      "City not found. Skipping...\n",
      "Retrieving record 52: Beringovskiy.\n",
      "City not found. Skipping...\n",
      "Retrieving record 53: Yerbogachën.\n",
      "Retrieving record 54: Fairbanks.\n",
      "Retrieving record 55: Mugumu.\n",
      "Retrieving record 56: Florø.\n",
      "Retrieving record 57: Caravelas.\n",
      "Retrieving record 58: Bluff.\n",
      "Retrieving record 59: Constitución.\n",
      "Retrieving record 60: La Santisima Trinidad.\n",
      "Retrieving record 61: Mataura.\n",
      "Retrieving record 62: Kahului.\n",
      "City not found. Skipping...\n",
      "Retrieving record 63: Ashland.\n",
      "Retrieving record 64: Brae.\n",
      "City not found. Skipping...\n",
      "Retrieving record 65: Toamasina.\n",
      "Retrieving record 66: Mānsa.\n",
      "Retrieving record 67: Balyqshy.\n",
      "Retrieving record 68: Chokurdakh.\n",
      "Retrieving record 69: George Town.\n",
      "Retrieving record 70: Nantucket.\n",
      "Retrieving record 71: Tautira.\n",
      "City not found. Skipping...\n",
      "Retrieving record 72: Tiksi.\n",
      "Retrieving record 73: Lavrentiya.\n",
      "Retrieving record 74: Astara.\n",
      "Retrieving record 75: Hilo.\n",
      "Retrieving record 76: Merritt Island.\n",
      "Retrieving record 77: Northam.\n",
      "Retrieving record 78: Mossamedes.\n",
      "City not found. Skipping...\n",
      "Retrieving record 79: Sørland.\n",
      "Retrieving record 80: Ternate.\n",
      "Retrieving record 81: Haines Junction.\n",
      "Retrieving record 82: Hobart.\n",
      "Retrieving record 83: Rawson.\n",
      "Retrieving record 84: Talnakh.\n",
      "Retrieving record 85: Lauria.\n",
      "Retrieving record 86: Saskylakh.\n",
      "Retrieving record 87: Cidreira.\n",
      "Retrieving record 88: Raudeberg.\n",
      "Retrieving record 89: Saldanha.\n",
      "Retrieving record 90: Ribeira Grande.\n",
      "Retrieving record 91: Qaanaaq.\n",
      "Retrieving record 92: Los Llanos de Aridane.\n",
      "Retrieving record 93: Mount Isa.\n",
      "Retrieving record 94: Bitung.\n",
      "Retrieving record 95: Uglovoye.\n",
      "Retrieving record 96: Pangody.\n",
      "Retrieving record 97: Atuona.\n",
      "Retrieving record 98: Tazovsky.\n",
      "Retrieving record 99: Anadyr.\n",
      "Retrieving record 100: Klaksvík.\n",
      "Retrieving record 101: Comodoro Rivadavia.\n",
      "Retrieving record 102: Pevek.\n",
      "Retrieving record 103: Tuatapere.\n",
      "Retrieving record 104: Lorengau.\n",
      "Retrieving record 105: Beloha.\n",
      "Retrieving record 106: Nikolskoye.\n",
      "Retrieving record 107: Melito di Porto Salvo.\n",
      "City not found. Skipping...\n",
      "Retrieving record 108: Orlik.\n",
      "Retrieving record 109: Rocha.\n",
      "Retrieving record 110: Morgan City.\n",
      "Retrieving record 111: Kapaa.\n",
      "Retrieving record 112: Chiautla.\n",
      "Retrieving record 113: Flinders.\n",
      "Retrieving record 114: Coyhaique.\n",
      "Retrieving record 115: Souillac.\n",
      "Retrieving record 116: Ust-Maya.\n",
      "Retrieving record 117: Port Elizabeth.\n",
      "Retrieving record 118: Lompoc.\n",
      "Retrieving record 119: Vega de Alatorre.\n",
      "Retrieving record 120: Mar del Plata.\n",
      "Retrieving record 121: Jutaí.\n",
      "Retrieving record 122: Shimoda.\n",
      "City not found. Skipping...\n",
      "Retrieving record 123: Colac.\n",
      "Retrieving record 124: Barcelos.\n",
      "Retrieving record 125: Longyearbyen.\n",
      "Retrieving record 126: Salinas.\n",
      "Retrieving record 127: Hīt.\n",
      "Retrieving record 128: Santa Maria.\n",
      "Retrieving record 129: São Filipe.\n",
      "Retrieving record 130: La Ronge.\n",
      "Retrieving record 131: Lüderitz.\n",
      "Retrieving record 132: Menomonie.\n",
      "Retrieving record 133: The Valley.\n",
      "Retrieving record 134: Norman Wells.\n",
      "Retrieving record 135: Saint George.\n",
      "City not found. Skipping...\n",
      "Retrieving record 136: Vestmannaeyjar.\n",
      "Retrieving record 137: Champerico.\n",
      "City not found. Skipping...\n",
      "Retrieving record 138: Virginia Beach.\n",
      "Retrieving record 139: Lebu.\n",
      "Retrieving record 140: Codrington.\n",
      "Retrieving record 141: Aklavik.\n",
      "Retrieving record 142: Silver City.\n",
      "Retrieving record 143: Neuquén.\n",
      "Retrieving record 144: Rantepao.\n",
      "Retrieving record 145: Fethiye.\n",
      "Retrieving record 146: Port Lincoln.\n",
      "City not found. Skipping...\n",
      "Retrieving record 147: Mukeriān.\n",
      "Retrieving record 148: Punta Gorda.\n",
      "Retrieving record 149: Plouzané.\n",
      "Retrieving record 150: Fuling.\n",
      "Retrieving record 151: Matara.\n",
      "Retrieving record 152: Richards Bay.\n",
      "Retrieving record 153: Ilulissat.\n",
      "Retrieving record 154: Adrar.\n",
      "Retrieving record 155: Sur.\n",
      "Retrieving record 156: Tuktoyaktuk.\n",
      "Retrieving record 157: Butaritari.\n",
      "Retrieving record 158: Port Macquarie.\n",
      "Retrieving record 159: Turiaçu.\n",
      "Retrieving record 160: Tomatlán.\n",
      "Retrieving record 161: Bethanien.\n",
      "Retrieving record 162: Upernavik.\n",
      "Retrieving record 163: Provincia di Imperia.\n",
      "Retrieving record 164: Bujaru.\n",
      "Retrieving record 165: Visnes.\n",
      "Retrieving record 166: Khovd.\n",
      "Retrieving record 167: Ekuvukeni.\n",
      "Retrieving record 168: Teahupoo.\n",
      "City not found. Skipping...\n",
      "City not found. Skipping...\n",
      "Retrieving record 169: Santa María del Oro.\n",
      "Retrieving record 170: Honiara.\n",
      "Retrieving record 171: São João da Barra.\n",
      "Retrieving record 172: San Jose.\n",
      "Retrieving record 173: Fort Nelson.\n",
      "Retrieving record 174: Faanui.\n",
      "Retrieving record 175: Viedma.\n",
      "Retrieving record 176: Imbituba.\n",
      "City not found. Skipping...\n",
      "Retrieving record 177: Byron Bay.\n",
      "Retrieving record 178: Gobabis.\n",
      "Retrieving record 179: Panjāb.\n",
      "Retrieving record 180: Hearst.\n",
      "Retrieving record 181: Coolum Beach.\n",
      "Retrieving record 182: Dikson.\n",
      "Retrieving record 183: Angoche.\n",
      "Retrieving record 184: Karasjok.\n",
      "Retrieving record 185: São Félix do Xingu.\n",
      "City not found. Skipping...\n",
      "Retrieving record 186: Shagonar.\n",
      "Retrieving record 187: Cherdyn'.\n",
      "Retrieving record 188: Luquillo.\n",
      "Retrieving record 189: Baculin.\n",
      "Retrieving record 190: Vyazemskiy.\n",
      "Retrieving record 191: Wangou.\n",
      "Retrieving record 192: Honolulu.\n",
      "Retrieving record 193: La Tuque.\n",
      "Retrieving record 194: Owando.\n",
      "Retrieving record 195: Iqaluit.\n",
      "Retrieving record 196: Miles City.\n",
      "Retrieving record 197: Magadan.\n",
      "Retrieving record 198: Hithadhoo.\n",
      "City not found. Skipping...\n",
      "Retrieving record 199: Thanjavur.\n",
      "Retrieving record 200: Whitehorse.\n",
      "Retrieving record 201: Eidfjord.\n",
      "Retrieving record 202: Airai.\n",
      "Retrieving record 203: Caconda.\n",
      "Retrieving record 204: Ontario.\n",
      "Retrieving record 205: Aleksandrov Gay.\n",
      "City not found. Skipping...\n",
      "Retrieving record 206: Cuamba.\n",
      "Retrieving record 207: Mozhga.\n",
      "Retrieving record 208: Arica.\n",
      "Retrieving record 209: Tabou.\n",
      "Retrieving record 210: Kochi.\n",
      "Retrieving record 211: Kvareli.\n",
      "Retrieving record 212: Tomigusuku.\n",
      "Retrieving record 213: Kui Buri.\n",
      "Retrieving record 214: Grand Gaube.\n",
      "Retrieving record 215: Nador.\n",
      "Retrieving record 216: New Norfolk.\n",
      "Retrieving record 217: Yurga.\n",
      "Retrieving record 218: Heraclea.\n",
      "Retrieving record 219: Pisco.\n",
      "Retrieving record 220: Toora-Khem.\n",
      "Retrieving record 221: Altamont.\n",
      "Retrieving record 222: Port Hueneme.\n",
      "Retrieving record 223: Monrovia.\n",
      "Retrieving record 224: Sabha.\n",
      "Retrieving record 225: Cherskiy.\n",
      "Retrieving record 226: Candiis.\n",
      "Retrieving record 227: Magog.\n",
      "Retrieving record 228: Ol'ga.\n",
      "Retrieving record 229: Durg.\n",
      "Retrieving record 230: Palencia.\n",
      "Retrieving record 231: Sawara.\n",
      "Retrieving record 232: Coquimbo.\n",
      "Retrieving record 233: Peringat.\n",
      "Retrieving record 234: Kununurra.\n",
      "Retrieving record 235: Izhma.\n",
      "Retrieving record 236: Rāwah.\n",
      "Retrieving record 237: Ancud.\n",
      "Retrieving record 238: Poronaysk.\n",
      "Retrieving record 239: Delījān.\n",
      "Retrieving record 240: Estelle.\n",
      "Retrieving record 241: Abu Samrah.\n",
      "Retrieving record 242: Takoradze.\n",
      "Retrieving record 243: Hay River.\n",
      "Retrieving record 244: Nurota.\n",
      "City not found. Skipping...\n",
      "Retrieving record 245: Kurush.\n",
      "Retrieving record 246: El Sauzal de Rodríguez.\n",
      "Retrieving record 247: Moose Factory.\n",
      "Retrieving record 248: Coahuayana Viejo.\n",
      "Retrieving record 249: Taltal.\n",
      "Retrieving record 250: Katherine.\n",
      "Retrieving record 251: West Fargo.\n",
      "Retrieving record 252: Bereket.\n",
      "Retrieving record 253: Svetlaya.\n",
      "Retrieving record 254: Tamisan.\n",
      "Retrieving record 255: Gloggnitz.\n",
      "Retrieving record 256: La Gloria.\n",
      "Retrieving record 257: Manta.\n",
      "Retrieving record 258: Rāmgarh.\n",
      "Retrieving record 259: Bandundu Province.\n",
      "Retrieving record 260: Porto Belo.\n",
      "Retrieving record 261: Medianeira.\n",
      "Retrieving record 262: Bonthe.\n",
      "City not found. Skipping...\n",
      "Retrieving record 263: Cockburn Town.\n",
      "Retrieving record 264: Collie.\n",
      "Retrieving record 265: Presidencia Roque Sáenz Peña.\n",
      "Retrieving record 266: Mae Hong Son.\n",
      "Retrieving record 267: Upington.\n",
      "Retrieving record 268: Doctor Juan León Mallorquín.\n",
      "Retrieving record 269: Alta Floresta.\n",
      "Retrieving record 270: Banda Aceh.\n",
      "Retrieving record 271: East London.\n",
      "Retrieving record 272: Gongzhuling.\n",
      "Retrieving record 273: Tawao.\n",
      "Retrieving record 274: Donji Milanovac.\n",
      "Retrieving record 275: Guerrero Negro.\n",
      "Retrieving record 276: Provideniya.\n",
      "Retrieving record 277: Ponte de Sôr.\n",
      "Retrieving record 278: Tombouctou.\n",
      "Retrieving record 279: Shenjiamen.\n",
      "Retrieving record 280: Clarksburg.\n",
      "Retrieving record 281: Cayenne.\n",
      "Retrieving record 282: Sungai Penuh.\n",
      "Retrieving record 283: Paamiut.\n",
      "Retrieving record 284: Husavik.\n",
      "Retrieving record 285: Faya.\n",
      "Retrieving record 286: Quatre Cocos.\n",
      "Retrieving record 287: Bengkulu.\n",
      "Retrieving record 288: Matamoros.\n",
      "Retrieving record 289: Novy Urengoy.\n",
      "Retrieving record 290: Pochutla.\n",
      "Retrieving record 291: Japura.\n",
      "Retrieving record 292: Eureka.\n",
      "Retrieving record 293: Saint-Philippe.\n",
      "Retrieving record 294: Buraidah.\n",
      "Retrieving record 295: Huainan.\n",
      "Retrieving record 296: Culebra.\n",
      "Retrieving record 297: Nanortalik.\n",
      "Retrieving record 298: Nelson Bay.\n",
      "Retrieving record 299: Sinop Province.\n",
      "Retrieving record 300: Kemijärvi.\n",
      "Retrieving record 301: Øksfjord.\n",
      "Retrieving record 302: Port-Gentil.\n",
      "Retrieving record 303: Kumul.\n",
      "Retrieving record 304: Puerto Palomas.\n",
      "Retrieving record 305: Geraldton.\n",
      "Retrieving record 306: Katsuura.\n",
      "City not found. Skipping...\n",
      "Retrieving record 307: Mahāsamund.\n",
      "Retrieving record 308: Grindavik.\n",
      "Retrieving record 309: Benguela.\n",
      "Retrieving record 310: Labuhan.\n",
      "Retrieving record 311: Dwārka.\n",
      "Retrieving record 312: Milos.\n",
      "Retrieving record 313: Arrondissement de Poitiers.\n",
      "Retrieving record 314: Vardø.\n",
      "Retrieving record 315: Maningrida.\n",
      "Retrieving record 316: Izvoarele Sucevei.\n",
      "Retrieving record 317: Turukhansk.\n",
      "Retrieving record 318: Asău.\n",
      "Retrieving record 319: Drayton Valley.\n",
      "Retrieving record 320: Marks.\n",
      "Retrieving record 321: Hofn.\n",
      "Retrieving record 322: Bambous Virieux.\n",
      "Retrieving record 323: Forsytheganj.\n",
      "Retrieving record 324: Westport.\n",
      "Retrieving record 325: Batemans Bay.\n",
      "Retrieving record 326: Oleksandrivka.\n",
      "Retrieving record 327: Āzādshahr.\n",
      "Retrieving record 328: Latung.\n",
      "Retrieving record 329: Bria.\n",
      "Retrieving record 330: Port Augusta.\n",
      "Retrieving record 331: San Fernando del Valle de Catamarca.\n",
      "Retrieving record 332: Brodick.\n",
      "Retrieving record 333: Nicoya.\n",
      "Retrieving record 334: Bam.\n",
      "Retrieving record 335: Kiryat Gat.\n",
      "Retrieving record 336: Mankera.\n",
      "Retrieving record 337: Avarua.\n",
      "Retrieving record 338: Aksarka.\n",
      "Retrieving record 339: Pontalina.\n",
      "Retrieving record 340: Florianópolis.\n",
      "Retrieving record 341: Sedona.\n",
      "Retrieving record 342: Upata.\n",
      "Retrieving record 343: Jalu.\n",
      "Retrieving record 344: Gáldar.\n",
      "Retrieving record 345: Weinan.\n",
      "City not found. Skipping...\n",
      "Retrieving record 346: Khudumelapye.\n",
      "City not found. Skipping...\n",
      "Retrieving record 347: Mount Gambier.\n",
      "Retrieving record 348: Province of Mantua.\n",
      "Retrieving record 349: Chara.\n",
      "Retrieving record 350: Richmond.\n",
      "Retrieving record 351: Isangel.\n",
      "City not found. Skipping...\n",
      "Retrieving record 352: Bambari.\n",
      "Retrieving record 353: Bilma.\n",
      "City not found. Skipping...\n",
      "Retrieving record 354: Mokhsogollokh.\n",
      "Retrieving record 355: Ust'-Omchug.\n",
      "Retrieving record 356: Iquitos.\n",
      "Retrieving record 357: Springdale.\n",
      "Retrieving record 358: Tateyama.\n",
      "Retrieving record 359: Lewiston.\n",
      "Retrieving record 360: Severo-Kuril'sk.\n",
      "Retrieving record 361: Hong Kong.\n",
      "City not found. Skipping...\n",
      "Retrieving record 362: Lakhdenpokh'ya.\n",
      "Retrieving record 363: Aripuanã.\n",
      "Retrieving record 364: Najrān.\n",
      "Retrieving record 365: Antofagasta.\n",
      "Retrieving record 366: Mayor Pablo Lagerenza.\n",
      "City not found. Skipping...\n",
      "Retrieving record 367: Xining.\n",
      "City not found. Skipping...\n",
      "Retrieving record 368: Kedrovyy.\n",
      "Retrieving record 369: Sos'va.\n",
      "Retrieving record 370: Brownsville.\n",
      "Retrieving record 371: Pitimbu.\n",
      "Retrieving record 372: Reftinskiy.\n",
      "Retrieving record 373: Zeya.\n",
      "Retrieving record 374: Willowmore.\n",
      "Retrieving record 375: Plettenberg Bay.\n",
      "Retrieving record 376: Hualmay.\n",
      "Retrieving record 377: Yanam.\n",
      "Retrieving record 378: Fare.\n",
      "City not found. Skipping...\n",
      "Retrieving record 379: Bilibino.\n",
      "Retrieving record 380: Nānākuli.\n",
      "Retrieving record 381: Nsanje.\n",
      "Retrieving record 382: Rock Springs.\n",
      "Retrieving record 383: Palmer.\n",
      "City not found. Skipping...\n",
      "Retrieving record 384: Khatanga.\n",
      "Retrieving record 385: At-Bashi.\n",
      "Retrieving record 386: Broome.\n",
      "Retrieving record 387: Yulara.\n",
      "Retrieving record 388: Atambua.\n",
      "Retrieving record 389: Port-Cartier.\n",
      "Retrieving record 390: Kem'.\n",
      "Retrieving record 391: Mobaye.\n",
      "Retrieving record 392: Hanyang.\n",
      "Retrieving record 393: Bila Krynytsya.\n",
      "Retrieving record 394: Torbay.\n",
      "Retrieving record 395: Porbandar.\n",
      "Retrieving record 396: Honningsvåg.\n",
      "Retrieving record 397: Puerto Limón.\n",
      "Retrieving record 398: Uyemskiy.\n",
      "Retrieving record 399: Cabo San Lucas.\n",
      "Retrieving record 400: Adré.\n",
      "Retrieving record 401: Awjilah.\n",
      "Retrieving record 402: Sambava.\n",
      "Retrieving record 403: Ponta do Sol.\n",
      "City not found. Skipping...\n",
      "Retrieving record 404: Sitka.\n",
      "Retrieving record 405: Langsa.\n",
      "Retrieving record 406: Saiha.\n",
      "City not found. Skipping...\n",
      "Retrieving record 407: Ngunguru.\n",
      "Retrieving record 408: Abnūb.\n",
      "Retrieving record 409: Bari.\n",
      "Retrieving record 410: Keminmaa.\n",
      "Retrieving record 411: Mīrābād.\n",
      "Retrieving record 412: Laguna.\n",
      "Retrieving record 413: Pavlovsk.\n",
      "Retrieving record 414: Soyo.\n",
      "Retrieving record 415: Karratha.\n",
      "Retrieving record 416: Concordia.\n",
      "Retrieving record 417: Khilok.\n",
      "Retrieving record 418: Misratah.\n",
      "Retrieving record 419: Baijiantan.\n",
      "Retrieving record 420: Padang.\n",
      "Retrieving record 421: West Plains.\n",
      "Retrieving record 422: Muyezerskiy.\n",
      "Retrieving record 423: San Miguel de Tucumán.\n",
      "Retrieving record 424: Esmeraldas.\n",
      "Retrieving record 425: Tsimmerbude.\n",
      "Retrieving record 426: Tehachapi.\n",
      "Retrieving record 427: Baní.\n",
      "Retrieving record 428: Khymchyn.\n",
      "Retrieving record 429: Nefteyugansk.\n",
      "Retrieving record 430: Nishihara.\n",
      "Retrieving record 431: Hirara.\n",
      "Retrieving record 432: Ekibastuz.\n",
      "Retrieving record 433: Meulaboh.\n",
      "Retrieving record 434: Gunjur.\n",
      "Retrieving record 435: Tupaciguara.\n",
      "Retrieving record 436: Port Hardy.\n",
      "Retrieving record 437: Vanavara.\n",
      "Retrieving record 438: Stepnyak.\n",
      "Retrieving record 439: Fortuna.\n",
      "Retrieving record 440: Nome.\n",
      "Retrieving record 441: Rondonópolis.\n",
      "City not found. Skipping...\n",
      "Retrieving record 442: Berlevåg.\n",
      "Retrieving record 443: Porto Velho.\n",
      "Retrieving record 444: Biak.\n",
      "Retrieving record 445: Oktyabr'skoye.\n",
      "Retrieving record 446: Río Gallegos.\n",
      "Retrieving record 447: Inongo.\n",
      "Retrieving record 448: Linqu.\n",
      "City not found. Skipping...\n",
      "Retrieving record 449: Várzea Paulista.\n",
      "Retrieving record 450: Kanigoro.\n",
      "Retrieving record 451: Bathsheba.\n",
      "Retrieving record 452: Wattegama.\n",
      "Retrieving record 453: Yārāda.\n",
      "Retrieving record 454: Kupang.\n",
      "Retrieving record 455: Muros.\n",
      "Retrieving record 456: Bakchar.\n",
      "Retrieving record 457: Qui Nhon.\n",
      "City not found. Skipping...\n",
      "City not found. Skipping...\n",
      "Retrieving record 458: Oriximiná.\n",
      "Retrieving record 459: Vanimo.\n",
      "Retrieving record 460: Qasigiannguit.\n",
      "Retrieving record 461: Bondoukou.\n",
      "Retrieving record 462: San Policarpo.\n",
      "Retrieving record 463: Walvis Bay.\n",
      "Retrieving record 464: Blythe.\n",
      "Retrieving record 465: Itoman.\n",
      "Retrieving record 466: Yashkul'.\n",
      "Retrieving record 467: Ningxiang.\n",
      "Retrieving record 468: Quelimane.\n",
      "City not found. Skipping...\n",
      "Retrieving record 469: Binan.\n",
      "Retrieving record 470: Santiago.\n",
      "Retrieving record 471: Roald.\n",
      "Retrieving record 472: Boffa.\n",
      "Retrieving record 473: Birjand.\n",
      "Retrieving record 474: Saint-Pierre.\n",
      "Retrieving record 475: Vilhena.\n",
      "Retrieving record 476: Vila Velha.\n",
      "Retrieving record 477: Quevedo.\n",
      "Retrieving record 478: Malbork.\n",
      "Retrieving record 479: San Miguel de Cozumel.\n",
      "Retrieving record 480: Saint-François.\n",
      "City not found. Skipping...\n",
      "Retrieving record 481: Bertinoro.\n",
      "Retrieving record 482: Abaza.\n",
      "Retrieving record 483: Ugoofaaru.\n",
      "Retrieving record 484: Dingle.\n",
      "Retrieving record 485: Pordim.\n",
      "Retrieving record 486: Daru.\n",
      "Retrieving record 487: Tuy Hoa.\n",
      "Retrieving record 488: Panórama.\n",
      "Retrieving record 489: Guarujá.\n",
      "Retrieving record 490: Jacareacanga.\n",
      "Retrieving record 491: Lubao.\n",
      "Retrieving record 492: Todos Santos.\n",
      "Retrieving record 493: Saint-Augustin.\n",
      "Retrieving record 494: Carácuaro.\n",
      "City not found. Skipping...\n",
      "Retrieving record 495: Meadow Lake.\n",
      "City not found. Skipping...\n",
      "Retrieving record 496: Marsh Harbour.\n",
      "Retrieving record 497: Jerez.\n",
      "Retrieving record 498: Tāybād.\n",
      "Retrieving record 499: Araouane.\n",
      "Retrieving record 500: Mgachi.\n",
      "Retrieving record 501: Mandan.\n",
      "City not found. Skipping...\n",
      "Retrieving record 502: Ayotzintepec.\n",
      "Retrieving record 503: Srednekolymsk.\n",
      "Retrieving record 504: Huilong.\n",
      "Retrieving record 505: Semme.\n",
      "Retrieving record 506: Araci.\n",
      "Retrieving record 507: Erdaojiang.\n",
      "Retrieving record 508: Hervey Bay.\n",
      "Retrieving record 509: Panabá.\n",
      "Retrieving record 510: Harper.\n",
      "Retrieving record 511: Guilin.\n",
      "Retrieving record 512: Te Anau.\n",
      "Retrieving record 513: Waddān.\n",
      "Retrieving record 514: Along.\n",
      "Retrieving record 515: Kibala.\n",
      "City not found. Skipping...\n",
      "Retrieving record 516: Kalmunai.\n",
      "Retrieving record 517: Ikalamavony.\n",
      "Retrieving record 518: Port Hedland.\n",
      "Retrieving record 519: Saquena.\n",
      "Retrieving record 520: Sibu.\n",
      "Retrieving record 521: Kenai.\n",
      "Retrieving record 522: Balkhash.\n",
      "Retrieving record 523: Kosh-Agach.\n",
      "Retrieving record 524: Ca Mau.\n",
      "Retrieving record 525: North Platte.\n",
      "Retrieving record 526: Kathua.\n",
      "Retrieving record 527: Puerto Escondido.\n",
      "Retrieving record 528: Aberystwyth.\n",
      "Retrieving record 529: Nichinan.\n",
      "Retrieving record 530: Bonavista.\n",
      "Retrieving record 531: Yar-Sale.\n",
      "Retrieving record 532: Mahibadhoo.\n",
      "Retrieving record 533: Arlit.\n",
      "Retrieving record 534: Gurupá.\n",
      "Retrieving record 535: Turangi.\n",
      "Retrieving record 536: Novobiryusinskiy.\n",
      "Retrieving record 537: Manaure.\n",
      "Retrieving record 538: San Quintín.\n",
      "Retrieving record 539: Pozo Colorado.\n",
      "Retrieving record 540: Iwanai.\n",
      "Retrieving record 541: Konstantinovka.\n",
      "Retrieving record 542: Kavaratti.\n",
      "Retrieving record 543: Vestmanna.\n",
      "Retrieving record 544: Deputatsky.\n",
      "Retrieving record 545: Hirado.\n",
      "Retrieving record 546: Guéret.\n",
      "Retrieving record 547: Tiarei.\n",
      "Retrieving record 548: Ballina.\n",
      "Retrieving record 549: North Bend.\n",
      "Retrieving record 550: Jiazi.\n",
      "Retrieving record 551: Acapulco de Juárez.\n",
      "Retrieving record 552: Maragogi.\n",
      "Retrieving record 553: Al Bardīyah.\n",
      "City not found. Skipping...\n",
      "Retrieving record 554: Varginha.\n",
      "------------------------------\n",
      "Data Retrieval Complete\n",
      "------------------------------\n"
     ]
    }
   ],
   "source": [
    "# set up lists to hold reponse info\n",
    "lat = []\n",
    "lng = []\n",
    "temp = []\n",
    "new_cities = []\n",
    "humidity = []\n",
    "max_temp = []\n",
    "cloudiness = []\n",
    "wind_speed = []\n",
    "country = []\n",
    "date = []\n",
    "count_one = 1\n",
    "\n",
    "\n",
    "# Loop through the list of cities and perform a request for data on each\n",
    "for city in cities:\n",
    "    try:\n",
    "        response = requests.get(query_url + city + '&units=imperial')\n",
    "        # print(city)\n",
    "        # print(response.content)\n",
    "        response_json = response.json()\n",
    "        lat.append(response_json['coord']['lat'])\n",
    "        lng.append(response_json['coord']['lon'])\n",
    "        temp.append(response_json['main']['temp_max'])\n",
    "        humidity.append(response_json['main']['humidity'])\n",
    "        wind_speed.append(response_json['wind']['speed'])\n",
    "        cloudiness.append(response_json['clouds']['all'])\n",
    "        country.append(response_json['sys']['country'])\n",
    "        date.append(response_json['dt'])\n",
    "        new_cities.append(response_json['name'])\n",
    "        print(f\"Retrieving record {count_one}: {response_json['name']}.\")\n",
    "        count_one += 1\n",
    "        #print(f\"{city} has been added to the weather data.\")\n",
    "    except:\n",
    "        print(f\"City not found. Skipping...\")\n",
    "print(\"------------------------------\\nData Retrieval Complete\\n------------------------------\")"
   ]
  },
  {
   "cell_type": "markdown",
   "metadata": {},
   "source": [
    "### Convert Raw Data to DataFrame\n",
    "* Export the city data into a .csv.\n",
    "* Display the DataFrame"
   ]
  },
  {
   "cell_type": "code",
   "execution_count": 8,
   "metadata": {},
   "outputs": [
    {
     "data": {
      "text/html": [
       "<div>\n",
       "<style scoped>\n",
       "    .dataframe tbody tr th:only-of-type {\n",
       "        vertical-align: middle;\n",
       "    }\n",
       "\n",
       "    .dataframe tbody tr th {\n",
       "        vertical-align: top;\n",
       "    }\n",
       "\n",
       "    .dataframe thead th {\n",
       "        text-align: right;\n",
       "    }\n",
       "</style>\n",
       "<table border=\"1\" class=\"dataframe\">\n",
       "  <thead>\n",
       "    <tr style=\"text-align: right;\">\n",
       "      <th></th>\n",
       "      <th>City</th>\n",
       "      <th>Lat</th>\n",
       "      <th>Lng</th>\n",
       "      <th>Max Temp</th>\n",
       "      <th>Humidity</th>\n",
       "      <th>Cloudiness</th>\n",
       "      <th>Wind Speed</th>\n",
       "      <th>Country</th>\n",
       "      <th>Date</th>\n",
       "    </tr>\n",
       "  </thead>\n",
       "  <tbody>\n",
       "    <tr>\n",
       "      <th>0</th>\n",
       "      <td>Hasaki</td>\n",
       "      <td>35.7333</td>\n",
       "      <td>140.8333</td>\n",
       "      <td>41.40</td>\n",
       "      <td>93</td>\n",
       "      <td>100</td>\n",
       "      <td>17.40</td>\n",
       "      <td>JP</td>\n",
       "      <td>1644287316</td>\n",
       "    </tr>\n",
       "    <tr>\n",
       "      <th>1</th>\n",
       "      <td>Barrow</td>\n",
       "      <td>71.2906</td>\n",
       "      <td>-156.7887</td>\n",
       "      <td>-27.38</td>\n",
       "      <td>68</td>\n",
       "      <td>0</td>\n",
       "      <td>6.91</td>\n",
       "      <td>US</td>\n",
       "      <td>1644287016</td>\n",
       "    </tr>\n",
       "    <tr>\n",
       "      <th>2</th>\n",
       "      <td>Albany</td>\n",
       "      <td>42.6001</td>\n",
       "      <td>-73.9662</td>\n",
       "      <td>35.82</td>\n",
       "      <td>92</td>\n",
       "      <td>100</td>\n",
       "      <td>0.49</td>\n",
       "      <td>US</td>\n",
       "      <td>1644287123</td>\n",
       "    </tr>\n",
       "    <tr>\n",
       "      <th>3</th>\n",
       "      <td>Dunedin</td>\n",
       "      <td>-45.8742</td>\n",
       "      <td>170.5036</td>\n",
       "      <td>62.56</td>\n",
       "      <td>67</td>\n",
       "      <td>1</td>\n",
       "      <td>6.04</td>\n",
       "      <td>NZ</td>\n",
       "      <td>1644287317</td>\n",
       "    </tr>\n",
       "    <tr>\n",
       "      <th>4</th>\n",
       "      <td>Ushuaia</td>\n",
       "      <td>-54.8000</td>\n",
       "      <td>-68.3000</td>\n",
       "      <td>58.66</td>\n",
       "      <td>82</td>\n",
       "      <td>100</td>\n",
       "      <td>4.61</td>\n",
       "      <td>AR</td>\n",
       "      <td>1644286896</td>\n",
       "    </tr>\n",
       "    <tr>\n",
       "      <th>...</th>\n",
       "      <td>...</td>\n",
       "      <td>...</td>\n",
       "      <td>...</td>\n",
       "      <td>...</td>\n",
       "      <td>...</td>\n",
       "      <td>...</td>\n",
       "      <td>...</td>\n",
       "      <td>...</td>\n",
       "      <td>...</td>\n",
       "    </tr>\n",
       "    <tr>\n",
       "      <th>549</th>\n",
       "      <td>Jiazi</td>\n",
       "      <td>22.8779</td>\n",
       "      <td>116.0670</td>\n",
       "      <td>61.90</td>\n",
       "      <td>71</td>\n",
       "      <td>58</td>\n",
       "      <td>12.59</td>\n",
       "      <td>CN</td>\n",
       "      <td>1644287565</td>\n",
       "    </tr>\n",
       "    <tr>\n",
       "      <th>550</th>\n",
       "      <td>Acapulco de Juárez</td>\n",
       "      <td>16.8634</td>\n",
       "      <td>-99.8901</td>\n",
       "      <td>78.62</td>\n",
       "      <td>78</td>\n",
       "      <td>40</td>\n",
       "      <td>8.05</td>\n",
       "      <td>MX</td>\n",
       "      <td>1644287473</td>\n",
       "    </tr>\n",
       "    <tr>\n",
       "      <th>551</th>\n",
       "      <td>Maragogi</td>\n",
       "      <td>-9.0122</td>\n",
       "      <td>-35.2225</td>\n",
       "      <td>77.50</td>\n",
       "      <td>77</td>\n",
       "      <td>18</td>\n",
       "      <td>5.91</td>\n",
       "      <td>BR</td>\n",
       "      <td>1644287566</td>\n",
       "    </tr>\n",
       "    <tr>\n",
       "      <th>552</th>\n",
       "      <td>Al Bardīyah</td>\n",
       "      <td>31.7561</td>\n",
       "      <td>25.0865</td>\n",
       "      <td>55.38</td>\n",
       "      <td>51</td>\n",
       "      <td>82</td>\n",
       "      <td>18.28</td>\n",
       "      <td>LY</td>\n",
       "      <td>1644287567</td>\n",
       "    </tr>\n",
       "    <tr>\n",
       "      <th>553</th>\n",
       "      <td>Varginha</td>\n",
       "      <td>-21.5514</td>\n",
       "      <td>-45.4303</td>\n",
       "      <td>64.85</td>\n",
       "      <td>97</td>\n",
       "      <td>100</td>\n",
       "      <td>3.00</td>\n",
       "      <td>BR</td>\n",
       "      <td>1644287567</td>\n",
       "    </tr>\n",
       "  </tbody>\n",
       "</table>\n",
       "<p>554 rows × 9 columns</p>\n",
       "</div>"
      ],
      "text/plain": [
       "                   City      Lat       Lng  Max Temp  Humidity  Cloudiness  \\\n",
       "0                Hasaki  35.7333  140.8333     41.40        93         100   \n",
       "1                Barrow  71.2906 -156.7887    -27.38        68           0   \n",
       "2                Albany  42.6001  -73.9662     35.82        92         100   \n",
       "3               Dunedin -45.8742  170.5036     62.56        67           1   \n",
       "4               Ushuaia -54.8000  -68.3000     58.66        82         100   \n",
       "..                  ...      ...       ...       ...       ...         ...   \n",
       "549               Jiazi  22.8779  116.0670     61.90        71          58   \n",
       "550  Acapulco de Juárez  16.8634  -99.8901     78.62        78          40   \n",
       "551            Maragogi  -9.0122  -35.2225     77.50        77          18   \n",
       "552         Al Bardīyah  31.7561   25.0865     55.38        51          82   \n",
       "553            Varginha -21.5514  -45.4303     64.85        97         100   \n",
       "\n",
       "     Wind Speed Country        Date  \n",
       "0         17.40      JP  1644287316  \n",
       "1          6.91      US  1644287016  \n",
       "2          0.49      US  1644287123  \n",
       "3          6.04      NZ  1644287317  \n",
       "4          4.61      AR  1644286896  \n",
       "..          ...     ...         ...  \n",
       "549       12.59      CN  1644287565  \n",
       "550        8.05      MX  1644287473  \n",
       "551        5.91      BR  1644287566  \n",
       "552       18.28      LY  1644287567  \n",
       "553        3.00      BR  1644287567  \n",
       "\n",
       "[554 rows x 9 columns]"
      ]
     },
     "execution_count": 8,
     "metadata": {},
     "output_type": "execute_result"
    }
   ],
   "source": [
    "weather_dict = {\n",
    "    \"City\": new_cities,\n",
    "    \"Lat\": lat,\n",
    "    \"Lng\": lng,\n",
    "    \"Max Temp\": temp,\n",
    "    \"Humidity\": humidity,\n",
    "    \"Cloudiness\": cloudiness,\n",
    "    \"Wind Speed\": wind_speed,\n",
    "    \"Country\": country,\n",
    "    \"Date\": date\n",
    "}\n",
    "\n",
    "#change to F and MPH\n",
    "weather_data = pd.DataFrame(weather_dict)\n",
    "weather_data.to_csv('weather_data.csv')\n",
    "weather_data"
   ]
  },
  {
   "cell_type": "code",
   "execution_count": 9,
   "metadata": {},
   "outputs": [
    {
     "data": {
      "text/html": [
       "<div>\n",
       "<style scoped>\n",
       "    .dataframe tbody tr th:only-of-type {\n",
       "        vertical-align: middle;\n",
       "    }\n",
       "\n",
       "    .dataframe tbody tr th {\n",
       "        vertical-align: top;\n",
       "    }\n",
       "\n",
       "    .dataframe thead th {\n",
       "        text-align: right;\n",
       "    }\n",
       "</style>\n",
       "<table border=\"1\" class=\"dataframe\">\n",
       "  <thead>\n",
       "    <tr style=\"text-align: right;\">\n",
       "      <th></th>\n",
       "      <th>Lat</th>\n",
       "      <th>Lng</th>\n",
       "      <th>Max Temp</th>\n",
       "      <th>Humidity</th>\n",
       "      <th>Cloudiness</th>\n",
       "      <th>Wind Speed</th>\n",
       "      <th>Date</th>\n",
       "    </tr>\n",
       "  </thead>\n",
       "  <tbody>\n",
       "    <tr>\n",
       "      <th>count</th>\n",
       "      <td>554.000000</td>\n",
       "      <td>554.000000</td>\n",
       "      <td>554.000000</td>\n",
       "      <td>554.000000</td>\n",
       "      <td>554.000000</td>\n",
       "      <td>554.000000</td>\n",
       "      <td>5.540000e+02</td>\n",
       "    </tr>\n",
       "    <tr>\n",
       "      <th>mean</th>\n",
       "      <td>19.891329</td>\n",
       "      <td>15.059727</td>\n",
       "      <td>50.205325</td>\n",
       "      <td>73.319495</td>\n",
       "      <td>56.750903</td>\n",
       "      <td>8.203899</td>\n",
       "      <td>1.644287e+09</td>\n",
       "    </tr>\n",
       "    <tr>\n",
       "      <th>std</th>\n",
       "      <td>33.553736</td>\n",
       "      <td>91.150996</td>\n",
       "      <td>30.201847</td>\n",
       "      <td>21.147226</td>\n",
       "      <td>41.655906</td>\n",
       "      <td>6.904769</td>\n",
       "      <td>1.217596e+02</td>\n",
       "    </tr>\n",
       "    <tr>\n",
       "      <th>min</th>\n",
       "      <td>-54.800000</td>\n",
       "      <td>-175.200000</td>\n",
       "      <td>-43.470000</td>\n",
       "      <td>9.000000</td>\n",
       "      <td>0.000000</td>\n",
       "      <td>0.000000</td>\n",
       "      <td>1.644287e+09</td>\n",
       "    </tr>\n",
       "    <tr>\n",
       "      <th>25%</th>\n",
       "      <td>-9.060275</td>\n",
       "      <td>-65.612700</td>\n",
       "      <td>32.902500</td>\n",
       "      <td>63.000000</td>\n",
       "      <td>6.000000</td>\n",
       "      <td>3.510000</td>\n",
       "      <td>1.644287e+09</td>\n",
       "    </tr>\n",
       "    <tr>\n",
       "      <th>50%</th>\n",
       "      <td>25.717550</td>\n",
       "      <td>20.405200</td>\n",
       "      <td>59.945000</td>\n",
       "      <td>77.000000</td>\n",
       "      <td>73.000000</td>\n",
       "      <td>6.150000</td>\n",
       "      <td>1.644287e+09</td>\n",
       "    </tr>\n",
       "    <tr>\n",
       "      <th>75%</th>\n",
       "      <td>46.842575</td>\n",
       "      <td>95.183325</td>\n",
       "      <td>74.247500</td>\n",
       "      <td>90.000000</td>\n",
       "      <td>100.000000</td>\n",
       "      <td>10.360000</td>\n",
       "      <td>1.644288e+09</td>\n",
       "    </tr>\n",
       "    <tr>\n",
       "      <th>max</th>\n",
       "      <td>78.218600</td>\n",
       "      <td>179.316700</td>\n",
       "      <td>91.710000</td>\n",
       "      <td>100.000000</td>\n",
       "      <td>100.000000</td>\n",
       "      <td>50.940000</td>\n",
       "      <td>1.644288e+09</td>\n",
       "    </tr>\n",
       "  </tbody>\n",
       "</table>\n",
       "</div>"
      ],
      "text/plain": [
       "              Lat         Lng    Max Temp    Humidity  Cloudiness  Wind Speed  \\\n",
       "count  554.000000  554.000000  554.000000  554.000000  554.000000  554.000000   \n",
       "mean    19.891329   15.059727   50.205325   73.319495   56.750903    8.203899   \n",
       "std     33.553736   91.150996   30.201847   21.147226   41.655906    6.904769   \n",
       "min    -54.800000 -175.200000  -43.470000    9.000000    0.000000    0.000000   \n",
       "25%     -9.060275  -65.612700   32.902500   63.000000    6.000000    3.510000   \n",
       "50%     25.717550   20.405200   59.945000   77.000000   73.000000    6.150000   \n",
       "75%     46.842575   95.183325   74.247500   90.000000  100.000000   10.360000   \n",
       "max     78.218600  179.316700   91.710000  100.000000  100.000000   50.940000   \n",
       "\n",
       "               Date  \n",
       "count  5.540000e+02  \n",
       "mean   1.644287e+09  \n",
       "std    1.217596e+02  \n",
       "min    1.644287e+09  \n",
       "25%    1.644287e+09  \n",
       "50%    1.644287e+09  \n",
       "75%    1.644288e+09  \n",
       "max    1.644288e+09  "
      ]
     },
     "execution_count": 9,
     "metadata": {},
     "output_type": "execute_result"
    }
   ],
   "source": [
    "weather_data.describe()"
   ]
  },
  {
   "cell_type": "markdown",
   "metadata": {},
   "source": [
    "## Inspect the data and remove the cities where the humidity > 100%.\n",
    "----\n",
    "Skip this step if there are no cities that have humidity > 100%. "
   ]
  },
  {
   "cell_type": "code",
   "execution_count": 10,
   "metadata": {},
   "outputs": [],
   "source": [
    "#I skipped this step because there were no cities with humidity over 100%."
   ]
  },
  {
   "cell_type": "markdown",
   "metadata": {},
   "source": [
    "## Plotting the Data\n",
    "* Use proper labeling of the plots using plot titles (including date of analysis) and axes labels.\n",
    "* Save the plotted figures as .pngs."
   ]
  },
  {
   "cell_type": "markdown",
   "metadata": {},
   "source": [
    "## Latitude vs. Temperature Plot"
   ]
  },
  {
   "cell_type": "code",
   "execution_count": 11,
   "metadata": {},
   "outputs": [],
   "source": [
    "#this is setting up the variables for the visualizations\n",
    "latitude = weather_data[\"Lat\"]\n",
    "humidity = weather_data['Humidity']\n",
    "maxtemp = weather_data['Max Temp']\n",
    "clouds = weather_data['Cloudiness']\n",
    "windspeed = weather_data['Wind Speed']"
   ]
  },
  {
   "cell_type": "code",
   "execution_count": 66,
   "metadata": {},
   "outputs": [
    {
     "data": {
      "image/png": "[encoded data removed]",
      "text/plain": [
       "<Figure size 432x288 with 1 Axes>"
      ]
     },
     "metadata": {
      "needs_background": "light"
     },
     "output_type": "display_data"
    }
   ],
   "source": [
    "plt.scatter(latitude, maxtemp)\n",
    "plt.xlabel('Latitude')\n",
    "plt.ylabel('Max Temperature (F)')\n",
    "plt.title('City Latitude vs Max Temperature 02/07/22')\n",
    "plt.grid()\n",
    "plt.savefig('Images/lat_vs_temp.png')\n",
    "plt.show()"
   ]
  },
  {
   "cell_type": "code",
   "execution_count": 13,
   "metadata": {
    "scrolled": true
   },
   "outputs": [],
   "source": [
    "#After analyzing the data, there does appear to be a correlation between latitude and the max temperatures. The temperatures around the equator are the highest\n",
    "#which is expected and the lower temperatures are near the polar caps. It would make sense that the north pole would be colder seeing as it is a frozen ocean\n",
    "#compared to a frozen landmass like Antarctica."
   ]
  },
  {
   "cell_type": "markdown",
   "metadata": {},
   "source": [
    "## Latitude vs. Humidity Plot"
   ]
  },
  {
   "cell_type": "code",
   "execution_count": 67,
   "metadata": {},
   "outputs": [
    {
     "data": {
      "image/png": "[encoded data removed]",
      "text/plain": [
       "<Figure size 432x288 with 1 Axes>"
      ]
     },
     "metadata": {
      "needs_background": "light"
     },
     "output_type": "display_data"
    }
   ],
   "source": [
    "plt.scatter(latitude, humidity)\n",
    "plt.xlabel('Latitude')\n",
    "plt.ylabel('Humidity (%)')\n",
    "plt.title('City Latitude vs Humidity 02/07/22')\n",
    "plt.grid()\n",
    "plt.savefig('Images/lat_vs_humidity.png')\n",
    "plt.show()"
   ]
  },
  {
   "cell_type": "code",
   "execution_count": 15,
   "metadata": {},
   "outputs": [],
   "source": [
    "#At first, there didn't appear to be any kind of correlation between latitude and humidity but after\n",
    "#looking at a world map, the outliers between 0 and 40 degrees latitude could include the Saharan Desert\n",
    "#which explains the big dips in humidity. Between -20 to -40 degrees latitude there are more outliers that could\n",
    "#be explained by one of the test cities being in Australia or South Africa. Other than those outliers,\n",
    "#there is not an apparent correlation between latitude and humidity."
   ]
  },
  {
   "cell_type": "markdown",
   "metadata": {},
   "source": [
    "## Latitude vs. Cloudiness Plot"
   ]
  },
  {
   "cell_type": "code",
   "execution_count": 68,
   "metadata": {},
   "outputs": [
    {
     "data": {
      "image/png": "[encoded data removed]",
      "text/plain": [
       "<Figure size 432x288 with 1 Axes>"
      ]
     },
     "metadata": {
      "needs_background": "light"
     },
     "output_type": "display_data"
    }
   ],
   "source": [
    "plt.scatter(latitude, clouds)\n",
    "plt.xlabel('Latitude')\n",
    "plt.ylabel('Cloudiness (%)')\n",
    "plt.title('City Latitude vs Cloudiness 02/07/22')\n",
    "plt.grid()\n",
    "plt.savefig('Images/lat_vs_cloudiness.png')\n",
    "plt.show()"
   ]
  },
  {
   "cell_type": "code",
   "execution_count": 17,
   "metadata": {},
   "outputs": [],
   "source": [
    "#For cloudiness versus latitude, there is no correlation. At any given latitude, cloudiness\n",
    "#data covers the full available range. For example, the equator includes data from areas \n",
    "#like Brazil and Indonesia which get a lot of rainfall, therefore, more clouds. There are also areas \n",
    "#which include deserts that don't have a lot of clouds.\n"
   ]
  },
  {
   "cell_type": "markdown",
   "metadata": {},
   "source": [
    "## Latitude vs. Wind Speed Plot"
   ]
  },
  {
   "cell_type": "code",
   "execution_count": 18,
   "metadata": {},
   "outputs": [
    {
     "data": {
      "image/png": "[encoded data removed]",
      "text/plain": [
       "<Figure size 432x288 with 1 Axes>"
      ]
     },
     "metadata": {
      "needs_background": "light"
     },
     "output_type": "display_data"
    }
   ],
   "source": [
    "\n",
    "plt.scatter(latitude, windspeed)\n",
    "plt.xlabel('Latitude')\n",
    "plt.ylabel('Wind Speed (mph)')\n",
    "plt.title('City Latitude vs Wind Speed')\n",
    "plt.grid()\n",
    "plt.savefig('Images/lat_vs_windspeed.png')\n",
    "plt.show()"
   ]
  },
  {
   "cell_type": "code",
   "execution_count": 19,
   "metadata": {},
   "outputs": [
    {
     "data": {
      "text/html": [
       "<div>\n",
       "<style scoped>\n",
       "    .dataframe tbody tr th:only-of-type {\n",
       "        vertical-align: middle;\n",
       "    }\n",
       "\n",
       "    .dataframe tbody tr th {\n",
       "        vertical-align: top;\n",
       "    }\n",
       "\n",
       "    .dataframe thead th {\n",
       "        text-align: right;\n",
       "    }\n",
       "</style>\n",
       "<table border=\"1\" class=\"dataframe\">\n",
       "  <thead>\n",
       "    <tr style=\"text-align: right;\">\n",
       "      <th></th>\n",
       "      <th>City</th>\n",
       "      <th>Lat</th>\n",
       "      <th>Lng</th>\n",
       "      <th>Max Temp</th>\n",
       "      <th>Humidity</th>\n",
       "      <th>Cloudiness</th>\n",
       "      <th>Wind Speed</th>\n",
       "      <th>Country</th>\n",
       "      <th>Date</th>\n",
       "    </tr>\n",
       "  </thead>\n",
       "  <tbody>\n",
       "    <tr>\n",
       "      <th>296</th>\n",
       "      <td>Nanortalik</td>\n",
       "      <td>60.1432</td>\n",
       "      <td>-45.2371</td>\n",
       "      <td>10.31</td>\n",
       "      <td>69</td>\n",
       "      <td>100</td>\n",
       "      <td>50.94</td>\n",
       "      <td>GL</td>\n",
       "      <td>1644287156</td>\n",
       "    </tr>\n",
       "    <tr>\n",
       "      <th>135</th>\n",
       "      <td>Vestmannaeyjar</td>\n",
       "      <td>63.4427</td>\n",
       "      <td>-20.2734</td>\n",
       "      <td>29.91</td>\n",
       "      <td>79</td>\n",
       "      <td>100</td>\n",
       "      <td>47.33</td>\n",
       "      <td>IS</td>\n",
       "      <td>1644287374</td>\n",
       "    </tr>\n",
       "    <tr>\n",
       "      <th>307</th>\n",
       "      <td>Grindavik</td>\n",
       "      <td>63.8424</td>\n",
       "      <td>-22.4338</td>\n",
       "      <td>28.87</td>\n",
       "      <td>100</td>\n",
       "      <td>100</td>\n",
       "      <td>42.57</td>\n",
       "      <td>IS</td>\n",
       "      <td>1644287452</td>\n",
       "    </tr>\n",
       "    <tr>\n",
       "      <th>320</th>\n",
       "      <td>Hofn</td>\n",
       "      <td>64.2539</td>\n",
       "      <td>-15.2082</td>\n",
       "      <td>32.07</td>\n",
       "      <td>70</td>\n",
       "      <td>100</td>\n",
       "      <td>41.92</td>\n",
       "      <td>IS</td>\n",
       "      <td>1644287458</td>\n",
       "    </tr>\n",
       "    <tr>\n",
       "      <th>99</th>\n",
       "      <td>Klaksvík</td>\n",
       "      <td>62.2266</td>\n",
       "      <td>-6.5890</td>\n",
       "      <td>36.52</td>\n",
       "      <td>63</td>\n",
       "      <td>97</td>\n",
       "      <td>39.77</td>\n",
       "      <td>FO</td>\n",
       "      <td>1644287358</td>\n",
       "    </tr>\n",
       "    <tr>\n",
       "      <th>311</th>\n",
       "      <td>Milos</td>\n",
       "      <td>36.7500</td>\n",
       "      <td>24.4333</td>\n",
       "      <td>56.52</td>\n",
       "      <td>80</td>\n",
       "      <td>1</td>\n",
       "      <td>33.78</td>\n",
       "      <td>GR</td>\n",
       "      <td>1644287453</td>\n",
       "    </tr>\n",
       "    <tr>\n",
       "      <th>63</th>\n",
       "      <td>Brae</td>\n",
       "      <td>60.3964</td>\n",
       "      <td>-1.3530</td>\n",
       "      <td>42.71</td>\n",
       "      <td>74</td>\n",
       "      <td>100</td>\n",
       "      <td>29.73</td>\n",
       "      <td>GB</td>\n",
       "      <td>1644287342</td>\n",
       "    </tr>\n",
       "    <tr>\n",
       "      <th>39</th>\n",
       "      <td>Poum</td>\n",
       "      <td>-20.2333</td>\n",
       "      <td>164.0167</td>\n",
       "      <td>81.55</td>\n",
       "      <td>88</td>\n",
       "      <td>100</td>\n",
       "      <td>29.08</td>\n",
       "      <td>NC</td>\n",
       "      <td>1644287330</td>\n",
       "    </tr>\n",
       "    <tr>\n",
       "      <th>82</th>\n",
       "      <td>Rawson</td>\n",
       "      <td>-43.3002</td>\n",
       "      <td>-65.1023</td>\n",
       "      <td>82.60</td>\n",
       "      <td>22</td>\n",
       "      <td>0</td>\n",
       "      <td>28.99</td>\n",
       "      <td>AR</td>\n",
       "      <td>1644287350</td>\n",
       "    </tr>\n",
       "    <tr>\n",
       "      <th>487</th>\n",
       "      <td>Panórama</td>\n",
       "      <td>40.5878</td>\n",
       "      <td>23.0315</td>\n",
       "      <td>40.95</td>\n",
       "      <td>61</td>\n",
       "      <td>40</td>\n",
       "      <td>28.77</td>\n",
       "      <td>GR</td>\n",
       "      <td>1644287540</td>\n",
       "    </tr>\n",
       "  </tbody>\n",
       "</table>\n",
       "</div>"
      ],
      "text/plain": [
       "               City      Lat       Lng  Max Temp  Humidity  Cloudiness  \\\n",
       "296      Nanortalik  60.1432  -45.2371     10.31        69         100   \n",
       "135  Vestmannaeyjar  63.4427  -20.2734     29.91        79         100   \n",
       "307       Grindavik  63.8424  -22.4338     28.87       100         100   \n",
       "320            Hofn  64.2539  -15.2082     32.07        70         100   \n",
       "99         Klaksvík  62.2266   -6.5890     36.52        63          97   \n",
       "311           Milos  36.7500   24.4333     56.52        80           1   \n",
       "63             Brae  60.3964   -1.3530     42.71        74         100   \n",
       "39             Poum -20.2333  164.0167     81.55        88         100   \n",
       "82           Rawson -43.3002  -65.1023     82.60        22           0   \n",
       "487        Panórama  40.5878   23.0315     40.95        61          40   \n",
       "\n",
       "     Wind Speed Country        Date  \n",
       "296       50.94      GL  1644287156  \n",
       "135       47.33      IS  1644287374  \n",
       "307       42.57      IS  1644287452  \n",
       "320       41.92      IS  1644287458  \n",
       "99        39.77      FO  1644287358  \n",
       "311       33.78      GR  1644287453  \n",
       "63        29.73      GB  1644287342  \n",
       "39        29.08      NC  1644287330  \n",
       "82        28.99      AR  1644287350  \n",
       "487       28.77      GR  1644287540  "
      ]
     },
     "execution_count": 19,
     "metadata": {},
     "output_type": "execute_result"
    }
   ],
   "source": [
    "weather_data.sort_values(by=['Wind Speed'], ascending=False).head(10)"
   ]
  },
  {
   "cell_type": "code",
   "execution_count": 20,
   "metadata": {},
   "outputs": [],
   "source": [
    "#Overall there is no correlation between wind speed and city latitude but there are some major outliers that are mainly in the northern hemisphere and\n",
    "#primarily in Greenland. Historically in Greenland, the summers are cold, the winters are long, freezing, snowy, and windy; and it is overcast year-round."
   ]
  },
  {
   "cell_type": "markdown",
   "metadata": {},
   "source": [
    "## Linear Regression"
   ]
  },
  {
   "cell_type": "code",
   "execution_count": 21,
   "metadata": {},
   "outputs": [],
   "source": [
    "#Here I created two different dataframes for the Northern and Southern Hemispheres\n",
    "northern_df = weather_data.loc[weather_data[\"Lat\"] >= 0]\n",
    "southern_df = weather_data.loc[weather_data['Lat'] < 0]\n",
    "\n",
    "#Here I created the different varaibles based on the Northern and Southern Hemispheres\n",
    "ntemp = northern_df['Max Temp']\n",
    "stemp = southern_df['Max Temp']\n",
    "nlat = northern_df[\"Lat\"]\n",
    "slat =southern_df[\"Lat\"]\n",
    "nhumid = northern_df[\"Humidity\"]\n",
    "shumid = southern_df[\"Humidity\"]\n",
    "ncloud = northern_df[\"Cloudiness\"]\n",
    "scloud = southern_df[\"Cloudiness\"]\n",
    "nwind = northern_df[\"Wind Speed\"]\n",
    "swind = southern_df[\"Wind Speed\"]"
   ]
  },
  {
   "cell_type": "markdown",
   "metadata": {},
   "source": [
    "####  Northern Hemisphere - Max Temp vs. Latitude Linear Regression"
   ]
  },
  {
   "cell_type": "code",
   "execution_count": 46,
   "metadata": {},
   "outputs": [
    {
     "name": "stdout",
     "output_type": "stream",
     "text": [
      "The r-value is: 0.7440620089370837\n"
     ]
    },
    {
     "data": {
      "image/png": "[encoded data removed]",
      "text/plain": [
       "<Figure size 432x288 with 1 Axes>"
      ]
     },
     "metadata": {
      "needs_background": "light"
     },
     "output_type": "display_data"
    }
   ],
   "source": [
    "(slope, intercept, rvalue, pvalue, stderr) = linregress(nlat, ntemp)\n",
    "regress_values = nlat * slope + intercept\n",
    "line_eq = \"y = \" + str(round(slope,2)) + \"x + \" + str(round(intercept,2))\n",
    "plt.scatter(nlat, ntemp)\n",
    "plt.xlabel('Latitude')\n",
    "plt.ylabel('Max Temp (F)')\n",
    "plt.title('Northern Hemisphere - Temperature (F) vs. Latitude 02/07/22')\n",
    "plt.plot(nlat, regress_values,\"g-\")\n",
    "plt.annotate(line_eq,(5,-30),fontsize=12,color=\"purple\")\n",
    "plt.grid()\n",
    "print(f\"The r-value is: {rvalue**2}\")\n",
    "plt.savefig('Images/northernlat_vs_temp.png')\n",
    "plt.show()"
   ]
  },
  {
   "cell_type": "code",
   "execution_count": 47,
   "metadata": {},
   "outputs": [],
   "source": [
    "def regression(lat, weather, ylabel, title, filepath):\n",
    "    (slope, intercept, rvalue, pvalue, stderr) = linregress(lat, weather)\n",
    "    regress_values = lat * slope + intercept\n",
    "    line_eq = \"y = \" + str(round(slope,2)) + \"x + \" + str(round(intercept,2))\n",
    "    plt.scatter(lat, weather)\n",
    "    plt.xlabel('Latitude')\n",
    "    plt.ylabel(ylabel)\n",
    "    plt.title(f'{title} vs. Latitude 02/07/22')\n",
    "    plt.plot(lat, regress_values,\"g-\")\n",
    "    plt.annotate(line_eq,(5,-30),fontsize=12,color=\"purple\")\n",
    "    plt.grid()\n",
    "    print(f\"The r-value is: {rvalue**2}\")\n",
    "    plt.savefig(filepath)\n",
    "    plt.show()"
   ]
  },
  {
   "cell_type": "code",
   "execution_count": 48,
   "metadata": {},
   "outputs": [
    {
     "data": {
      "text/plain": [
       "count    380.000000\n",
       "mean      39.361026\n",
       "std       30.425514\n",
       "min      -43.470000\n",
       "25%       20.157500\n",
       "50%       41.770000\n",
       "75%       63.710000\n",
       "max       89.580000\n",
       "Name: Max Temp, dtype: float64"
      ]
     },
     "execution_count": 48,
     "metadata": {},
     "output_type": "execute_result"
    }
   ],
   "source": [
    "#In the northern hemisphere it would make sense that the temperature would get lower as you get closer to the north pole. The linear regression proves this by\n",
    "#having an r-value of 0.8 which is a strong positive correlation. \n",
    "ntemp.describe()"
   ]
  },
  {
   "cell_type": "markdown",
   "metadata": {},
   "source": [
    "####  Southern Hemisphere - Max Temp vs. Latitude Linear Regression"
   ]
  },
  {
   "cell_type": "code",
   "execution_count": 49,
   "metadata": {},
   "outputs": [
    {
     "name": "stdout",
     "output_type": "stream",
     "text": [
      "The r-value is: 0.1134581696052349\n"
     ]
    },
    {
     "data": {
      "image/png": "[encoded data removed]",
      "text/plain": [
       "<Figure size 432x288 with 1 Axes>"
      ]
     },
     "metadata": {
      "needs_background": "light"
     },
     "output_type": "display_data"
    }
   ],
   "source": [
    "(slope, intercept, rvalue, pvalue, stderr) = linregress(slat, stemp)\n",
    "regress_values = slat * slope + intercept\n",
    "line_eq = \"y = \" + str(round(slope,2)) + \"x + \" + str(round(intercept,2))\n",
    "plt.scatter(slat, stemp)\n",
    "plt.xlabel('Latitude')\n",
    "plt.ylabel('Max Temp (F)')\n",
    "plt.title('Southern Hemisphere - Temperature (F) vs. Latitude 02/07/22')\n",
    "plt.plot(slat, regress_values,\"g-\")\n",
    "plt.annotate(line_eq,(-50,40),fontsize=12,color=\"purple\")\n",
    "plt.grid()\n",
    "print(f\"The r-value is: {rvalue**2}\")\n",
    "plt.savefig('Images/southernlat_vs_temp.png')\n",
    "plt.show()"
   ]
  },
  {
   "cell_type": "code",
   "execution_count": 50,
   "metadata": {},
   "outputs": [
    {
     "data": {
      "text/plain": [
       "count    174.000000\n",
       "mean      73.888276\n",
       "std        8.079780\n",
       "min       51.910000\n",
       "25%       68.947500\n",
       "50%       73.660000\n",
       "75%       79.010000\n",
       "max       91.710000\n",
       "Name: Max Temp, dtype: float64"
      ]
     },
     "execution_count": 50,
     "metadata": {},
     "output_type": "execute_result"
    }
   ],
   "source": [
    "#For the southern hemisphere, the r-value is also very low indicating that there is not a big correlation.\n",
    "stemp.describe()"
   ]
  },
  {
   "cell_type": "markdown",
   "metadata": {},
   "source": [
    "####  Northern Hemisphere - Humidity (%) vs. Latitude Linear Regression"
   ]
  },
  {
   "cell_type": "code",
   "execution_count": 51,
   "metadata": {},
   "outputs": [
    {
     "name": "stdout",
     "output_type": "stream",
     "text": [
      "The r-value is: 0.1264832114097617\n"
     ]
    },
    {
     "data": {
      "image/png": "[encoded data removed]",
      "text/plain": [
       "<Figure size 432x288 with 1 Axes>"
      ]
     },
     "metadata": {
      "needs_background": "light"
     },
     "output_type": "display_data"
    }
   ],
   "source": [
    "(slope, intercept, rvalue, pvalue, stderr) = linregress(nlat, nhumid)\n",
    "regress_values = nlat * slope + intercept\n",
    "line_eq = \"y = \" + str(round(slope,2)) + \"x + \" + str(round(intercept,2))\n",
    "plt.scatter(nlat, nhumid)\n",
    "plt.xlabel('Latitude')\n",
    "plt.ylabel('Humidity (%)')\n",
    "plt.title('Northern Hemisphere - Humidity (%) vs. Latitude 02/07/22')\n",
    "plt.plot(nlat, regress_values,\"g-\")\n",
    "plt.annotate(line_eq,(45, 20),fontsize=12,color=\"purple\")\n",
    "plt.grid()\n",
    "print(f\"The r-value is: {rvalue**2}\")\n",
    "plt.savefig('Images/northernlat_vs_humidity.png')\n",
    "plt.show()"
   ]
  },
  {
   "cell_type": "code",
   "execution_count": 52,
   "metadata": {},
   "outputs": [
    {
     "data": {
      "text/plain": [
       "count    380.000000\n",
       "mean      73.242105\n",
       "std       21.271565\n",
       "min        9.000000\n",
       "25%       63.000000\n",
       "50%       78.000000\n",
       "75%       89.000000\n",
       "max      100.000000\n",
       "Name: Humidity, dtype: float64"
      ]
     },
     "execution_count": 52,
     "metadata": {},
     "output_type": "execute_result"
    }
   ],
   "source": [
    "#The r-value for this scatter plot is relatively low and there is a wide distribution of data so there is no real correlation between latitude and \n",
    "#humidity in the northern hemisphere. \n",
    "nhumid.describe()"
   ]
  },
  {
   "cell_type": "markdown",
   "metadata": {},
   "source": [
    "####  Southern Hemisphere - Humidity (%) vs. Latitude Linear Regression"
   ]
  },
  {
   "cell_type": "code",
   "execution_count": 53,
   "metadata": {},
   "outputs": [
    {
     "name": "stdout",
     "output_type": "stream",
     "text": [
      "The r-value is: 0.1491634094856246\n"
     ]
    },
    {
     "data": {
      "image/png": "[encoded data removed]",
      "text/plain": [
       "<Figure size 432x288 with 1 Axes>"
      ]
     },
     "metadata": {
      "needs_background": "light"
     },
     "output_type": "display_data"
    }
   ],
   "source": [
    "(slope, intercept, rvalue, pvalue, stderr) = linregress(slat, shumid)\n",
    "regress_values = slat * slope + intercept\n",
    "line_eq = \"y = \" + str(round(slope,2)) + \"x + \" + str(round(intercept,2))\n",
    "plt.scatter(slat, shumid)\n",
    "plt.xlabel('Latitude')\n",
    "plt.ylabel('Humidity (%)')\n",
    "plt.title('Southern Hemisphere - Humidity (%) vs. Latitude 02/07/22')\n",
    "plt.plot(slat, regress_values,\"g-\")\n",
    "plt.annotate(line_eq,(-20, 15),fontsize=12,color=\"purple\")\n",
    "plt.grid()\n",
    "print(f\"The r-value is: {rvalue**2}\")\n",
    "plt.savefig('Images/southernlat_vs_humidity.png')\n",
    "plt.show()"
   ]
  },
  {
   "cell_type": "code",
   "execution_count": 54,
   "metadata": {},
   "outputs": [
    {
     "name": "stdout",
     "output_type": "stream",
     "text": [
      "The r-value is: 0.1491634094856246\n"
     ]
    },
    {
     "data": {
      "image/png": "[encoded data removed]",
      "text/plain": [
       "<Figure size 432x288 with 1 Axes>"
      ]
     },
     "metadata": {
      "needs_background": "light"
     },
     "output_type": "display_data"
    }
   ],
   "source": [
    "#I was able to create a function to run the same code but did this after the homework was submitted\n",
    "regression(slat, shumid, 'Humidity %', 'Southern Hemisphere - Humidity (%)', 'Images/southernlat_vs_humidity.png')"
   ]
  },
  {
   "cell_type": "code",
   "execution_count": 55,
   "metadata": {},
   "outputs": [
    {
     "data": {
      "text/plain": [
       "count    174.000000\n",
       "mean      73.488506\n",
       "std       20.933072\n",
       "min       16.000000\n",
       "25%       63.000000\n",
       "50%       77.000000\n",
       "75%       92.000000\n",
       "max      100.000000\n",
       "Name: Humidity, dtype: float64"
      ]
     },
     "execution_count": 55,
     "metadata": {},
     "output_type": "execute_result"
    }
   ],
   "source": [
    "#The r-value for this scatter plot is relatively low so there is no real correlation between latitude and \n",
    "#humidity in the southern hemisphere as well. \n",
    "shumid.describe()"
   ]
  },
  {
   "cell_type": "markdown",
   "metadata": {},
   "source": [
    "####  Northern Hemisphere - Cloudiness (%) vs. Latitude Linear Regression"
   ]
  },
  {
   "cell_type": "code",
   "execution_count": 56,
   "metadata": {},
   "outputs": [
    {
     "name": "stdout",
     "output_type": "stream",
     "text": [
      "The r-value is: 0.07353521024894571\n"
     ]
    },
    {
     "data": {
      "image/png": "[encoded data removed]",
      "text/plain": [
       "<Figure size 432x288 with 1 Axes>"
      ]
     },
     "metadata": {
      "needs_background": "light"
     },
     "output_type": "display_data"
    }
   ],
   "source": [
    "(slope, intercept, rvalue, pvalue, stderr) = linregress(nlat, ncloud)\n",
    "regress_values = nlat * slope + intercept\n",
    "line_eq = \"y = \" + str(round(slope,2)) + \"x + \" + str(round(intercept,2))\n",
    "plt.scatter(nlat, ncloud)\n",
    "plt.xlabel('Latitude')\n",
    "plt.ylabel('Cloudiness (%)')\n",
    "plt.title('Northern Hemisphere - Cloudiness (%) vs. Latitude 02/07/22')\n",
    "plt.plot(nlat, regress_values,\"g-\")\n",
    "plt.annotate(line_eq,(53, 30),fontsize=12,color=\"purple\")\n",
    "plt.grid()\n",
    "print(f\"The r-value is: {rvalue**2}\")\n",
    "plt.savefig('Images/northernlat_vs_cloudiness.png')\n",
    "plt.show()"
   ]
  },
  {
   "cell_type": "code",
   "execution_count": 57,
   "metadata": {},
   "outputs": [
    {
     "data": {
      "text/plain": [
       "count    380.000000\n",
       "mean      57.168421\n",
       "std       41.874206\n",
       "min        0.000000\n",
       "25%        5.000000\n",
       "50%       74.000000\n",
       "75%      100.000000\n",
       "max      100.000000\n",
       "Name: Cloudiness, dtype: float64"
      ]
     },
     "execution_count": 57,
     "metadata": {},
     "output_type": "execute_result"
    }
   ],
   "source": [
    "#As far as the correlation between cloudiness and latitude in the northern hemisphere, the r-value is very close to 0 indicating\n",
    "#that there is no relationship. \n",
    "ncloud.describe()"
   ]
  },
  {
   "cell_type": "markdown",
   "metadata": {},
   "source": [
    "####  Southern Hemisphere - Cloudiness (%) vs. Latitude Linear Regression"
   ]
  },
  {
   "cell_type": "code",
   "execution_count": 58,
   "metadata": {},
   "outputs": [
    {
     "name": "stdout",
     "output_type": "stream",
     "text": [
      "The r-value is: 0.10026101864831358\n"
     ]
    },
    {
     "data": {
      "image/png": "[encoded data removed]",
      "text/plain": [
       "<Figure size 432x288 with 1 Axes>"
      ]
     },
     "metadata": {
      "needs_background": "light"
     },
     "output_type": "display_data"
    }
   ],
   "source": [
    "(slope, intercept, rvalue, pvalue, stderr) = linregress(slat, scloud)\n",
    "regress_values = slat * slope + intercept\n",
    "line_eq = \"y = \" + str(round(slope,2)) + \"x + \" + str(round(intercept,2))\n",
    "plt.scatter(slat, scloud)\n",
    "plt.xlabel('Latitude')\n",
    "plt.ylabel('Cloudiness (%)')\n",
    "plt.title('Southern Hemisphere - Cloudiness (%) vs. Latitude 02/07/22')\n",
    "plt.plot(slat, regress_values,\"g-\")\n",
    "plt.annotate(line_eq,(-55, 50),fontsize=12,color=\"purple\")\n",
    "plt.grid()\n",
    "print(f\"The r-value is: {rvalue**2}\")\n",
    "plt.savefig('Images/southernlat_vs_cloudiness.png')\n",
    "plt.show()"
   ]
  },
  {
   "cell_type": "code",
   "execution_count": 59,
   "metadata": {},
   "outputs": [
    {
     "data": {
      "text/plain": [
       "count    174.00000\n",
       "mean      55.83908\n",
       "std       41.28048\n",
       "min        0.00000\n",
       "25%        9.50000\n",
       "50%       66.00000\n",
       "75%      100.00000\n",
       "max      100.00000\n",
       "Name: Cloudiness, dtype: float64"
      ]
     },
     "execution_count": 59,
     "metadata": {},
     "output_type": "execute_result"
    }
   ],
   "source": [
    "#For the correlation between cloudiness and latitude in the southern hemisphere, the r-value is very close to 0 indicating\n",
    "#that there is no relationship.\n",
    "scloud.describe()"
   ]
  },
  {
   "cell_type": "markdown",
   "metadata": {},
   "source": [
    "####  Northern Hemisphere - Wind Speed (mph) vs. Latitude Linear Regression"
   ]
  },
  {
   "cell_type": "code",
   "execution_count": 60,
   "metadata": {},
   "outputs": [
    {
     "name": "stdout",
     "output_type": "stream",
     "text": [
      "The r-value is: 0.04282319775479945\n"
     ]
    },
    {
     "data": {
      "image/png": "[encoded data removed]",
      "text/plain": [
       "<Figure size 432x288 with 1 Axes>"
      ]
     },
     "metadata": {
      "needs_background": "light"
     },
     "output_type": "display_data"
    }
   ],
   "source": [
    "(slope, intercept, rvalue, pvalue, stderr) = linregress(nlat, nwind)\n",
    "regress_values = nlat * slope + intercept\n",
    "line_eq = \"y = \" + str(round(slope,2)) + \"x + \" + str(round(intercept,2))\n",
    "plt.scatter(nlat, nwind)\n",
    "plt.xlabel('Latitude')\n",
    "plt.ylabel('Wind Speed (mph)')\n",
    "plt.title('Northern Hemisphere - Wind Speed (mph) vs. Latitude 02/07/22')\n",
    "plt.plot(nlat, regress_values,\"g-\")\n",
    "plt.annotate(line_eq,(5, 32),fontsize=12,color=\"purple\")\n",
    "plt.grid()\n",
    "print(f\"The r-value is: {rvalue**2}\")\n",
    "plt.savefig('Images/northernlat_vs_windspeed.png')\n",
    "plt.show()"
   ]
  },
  {
   "cell_type": "code",
   "execution_count": 61,
   "metadata": {},
   "outputs": [
    {
     "name": "stdout",
     "output_type": "stream",
     "text": [
      "count    380.000000\n",
      "mean       8.599842\n",
      "std        7.266954\n",
      "min        0.000000\n",
      "25%        3.822500\n",
      "50%        6.765000\n",
      "75%       10.732500\n",
      "max       50.940000\n",
      "Name: Wind Speed, dtype: float64\n"
     ]
    },
    {
     "data": {
      "text/html": [
       "<div>\n",
       "<style scoped>\n",
       "    .dataframe tbody tr th:only-of-type {\n",
       "        vertical-align: middle;\n",
       "    }\n",
       "\n",
       "    .dataframe tbody tr th {\n",
       "        vertical-align: top;\n",
       "    }\n",
       "\n",
       "    .dataframe thead th {\n",
       "        text-align: right;\n",
       "    }\n",
       "</style>\n",
       "<table border=\"1\" class=\"dataframe\">\n",
       "  <thead>\n",
       "    <tr style=\"text-align: right;\">\n",
       "      <th></th>\n",
       "      <th>City</th>\n",
       "      <th>Lat</th>\n",
       "      <th>Lng</th>\n",
       "      <th>Max Temp</th>\n",
       "      <th>Humidity</th>\n",
       "      <th>Cloudiness</th>\n",
       "      <th>Wind Speed</th>\n",
       "      <th>Country</th>\n",
       "      <th>Date</th>\n",
       "    </tr>\n",
       "  </thead>\n",
       "  <tbody>\n",
       "    <tr>\n",
       "      <th>296</th>\n",
       "      <td>Nanortalik</td>\n",
       "      <td>60.1432</td>\n",
       "      <td>-45.2371</td>\n",
       "      <td>10.31</td>\n",
       "      <td>69</td>\n",
       "      <td>100</td>\n",
       "      <td>50.94</td>\n",
       "      <td>GL</td>\n",
       "      <td>1644287156</td>\n",
       "    </tr>\n",
       "    <tr>\n",
       "      <th>135</th>\n",
       "      <td>Vestmannaeyjar</td>\n",
       "      <td>63.4427</td>\n",
       "      <td>-20.2734</td>\n",
       "      <td>29.91</td>\n",
       "      <td>79</td>\n",
       "      <td>100</td>\n",
       "      <td>47.33</td>\n",
       "      <td>IS</td>\n",
       "      <td>1644287374</td>\n",
       "    </tr>\n",
       "    <tr>\n",
       "      <th>307</th>\n",
       "      <td>Grindavik</td>\n",
       "      <td>63.8424</td>\n",
       "      <td>-22.4338</td>\n",
       "      <td>28.87</td>\n",
       "      <td>100</td>\n",
       "      <td>100</td>\n",
       "      <td>42.57</td>\n",
       "      <td>IS</td>\n",
       "      <td>1644287452</td>\n",
       "    </tr>\n",
       "    <tr>\n",
       "      <th>320</th>\n",
       "      <td>Hofn</td>\n",
       "      <td>64.2539</td>\n",
       "      <td>-15.2082</td>\n",
       "      <td>32.07</td>\n",
       "      <td>70</td>\n",
       "      <td>100</td>\n",
       "      <td>41.92</td>\n",
       "      <td>IS</td>\n",
       "      <td>1644287458</td>\n",
       "    </tr>\n",
       "    <tr>\n",
       "      <th>99</th>\n",
       "      <td>Klaksvík</td>\n",
       "      <td>62.2266</td>\n",
       "      <td>-6.5890</td>\n",
       "      <td>36.52</td>\n",
       "      <td>63</td>\n",
       "      <td>97</td>\n",
       "      <td>39.77</td>\n",
       "      <td>FO</td>\n",
       "      <td>1644287358</td>\n",
       "    </tr>\n",
       "    <tr>\n",
       "      <th>311</th>\n",
       "      <td>Milos</td>\n",
       "      <td>36.7500</td>\n",
       "      <td>24.4333</td>\n",
       "      <td>56.52</td>\n",
       "      <td>80</td>\n",
       "      <td>1</td>\n",
       "      <td>33.78</td>\n",
       "      <td>GR</td>\n",
       "      <td>1644287453</td>\n",
       "    </tr>\n",
       "    <tr>\n",
       "      <th>63</th>\n",
       "      <td>Brae</td>\n",
       "      <td>60.3964</td>\n",
       "      <td>-1.3530</td>\n",
       "      <td>42.71</td>\n",
       "      <td>74</td>\n",
       "      <td>100</td>\n",
       "      <td>29.73</td>\n",
       "      <td>GB</td>\n",
       "      <td>1644287342</td>\n",
       "    </tr>\n",
       "    <tr>\n",
       "      <th>487</th>\n",
       "      <td>Panórama</td>\n",
       "      <td>40.5878</td>\n",
       "      <td>23.0315</td>\n",
       "      <td>40.95</td>\n",
       "      <td>61</td>\n",
       "      <td>40</td>\n",
       "      <td>28.77</td>\n",
       "      <td>GR</td>\n",
       "      <td>1644287540</td>\n",
       "    </tr>\n",
       "    <tr>\n",
       "      <th>470</th>\n",
       "      <td>Roald</td>\n",
       "      <td>62.5833</td>\n",
       "      <td>6.1333</td>\n",
       "      <td>43.00</td>\n",
       "      <td>81</td>\n",
       "      <td>100</td>\n",
       "      <td>27.63</td>\n",
       "      <td>NO</td>\n",
       "      <td>1644287534</td>\n",
       "    </tr>\n",
       "    <tr>\n",
       "      <th>164</th>\n",
       "      <td>Visnes</td>\n",
       "      <td>59.3556</td>\n",
       "      <td>5.2242</td>\n",
       "      <td>46.58</td>\n",
       "      <td>81</td>\n",
       "      <td>75</td>\n",
       "      <td>27.63</td>\n",
       "      <td>NO</td>\n",
       "      <td>1644287386</td>\n",
       "    </tr>\n",
       "  </tbody>\n",
       "</table>\n",
       "</div>"
      ],
      "text/plain": [
       "               City      Lat      Lng  Max Temp  Humidity  Cloudiness  \\\n",
       "296      Nanortalik  60.1432 -45.2371     10.31        69         100   \n",
       "135  Vestmannaeyjar  63.4427 -20.2734     29.91        79         100   \n",
       "307       Grindavik  63.8424 -22.4338     28.87       100         100   \n",
       "320            Hofn  64.2539 -15.2082     32.07        70         100   \n",
       "99         Klaksvík  62.2266  -6.5890     36.52        63          97   \n",
       "311           Milos  36.7500  24.4333     56.52        80           1   \n",
       "63             Brae  60.3964  -1.3530     42.71        74         100   \n",
       "487        Panórama  40.5878  23.0315     40.95        61          40   \n",
       "470           Roald  62.5833   6.1333     43.00        81         100   \n",
       "164          Visnes  59.3556   5.2242     46.58        81          75   \n",
       "\n",
       "     Wind Speed Country        Date  \n",
       "296       50.94      GL  1644287156  \n",
       "135       47.33      IS  1644287374  \n",
       "307       42.57      IS  1644287452  \n",
       "320       41.92      IS  1644287458  \n",
       "99        39.77      FO  1644287358  \n",
       "311       33.78      GR  1644287453  \n",
       "63        29.73      GB  1644287342  \n",
       "487       28.77      GR  1644287540  \n",
       "470       27.63      NO  1644287534  \n",
       "164       27.63      NO  1644287386  "
      ]
     },
     "execution_count": 61,
     "metadata": {},
     "output_type": "execute_result"
    }
   ],
   "source": [
    "#Overall, there is no correlation between wind speed and latitude in the northern hemisphere.\n",
    "print(nwind.describe())\n",
    "northern_df.sort_values(by=[\"Wind Speed\"], ascending=False).head(10)"
   ]
  },
  {
   "cell_type": "markdown",
   "metadata": {},
   "source": [
    "####  Southern Hemisphere - Wind Speed (mph) vs. Latitude Linear Regression"
   ]
  },
  {
   "cell_type": "code",
   "execution_count": 62,
   "metadata": {},
   "outputs": [
    {
     "name": "stdout",
     "output_type": "stream",
     "text": [
      "The r-value is: 0.09473022571460829\n"
     ]
    },
    {
     "data": {
      "image/png": "[encoded data removed]",
      "text/plain": [
       "<Figure size 432x288 with 1 Axes>"
      ]
     },
     "metadata": {
      "needs_background": "light"
     },
     "output_type": "display_data"
    }
   ],
   "source": [
    "(slope, intercept, rvalue, pvalue, stderr) = linregress(slat, swind)\n",
    "regress_values = slat * slope + intercept\n",
    "line_eq = \"y = \" + str(round(slope,2)) + \"x + \" + str(round(intercept,2))\n",
    "plt.scatter(slat, swind)\n",
    "plt.xlabel('Latitude')\n",
    "plt.ylabel('Wind Speed (mph)')\n",
    "plt.title('Southern Hemisphere - Wind Speed (mph) vs. Latitude 02/07/22' )\n",
    "plt.plot(slat, regress_values,\"g-\")\n",
    "plt.annotate(line_eq,(-55, 22),fontsize=12,color=\"purple\")\n",
    "plt.grid()\n",
    "print(f\"The r-value is: {rvalue**2}\")\n",
    "plt.savefig('Images/southernlat_vs_windspeed.png')\n",
    "plt.show()"
   ]
  },
  {
   "cell_type": "code",
   "execution_count": 63,
   "metadata": {},
   "outputs": [
    {
     "data": {
      "text/plain": [
       "count    174.000000\n",
       "mean       7.339195\n",
       "std        5.967443\n",
       "min        0.000000\n",
       "25%        3.000000\n",
       "50%        5.760000\n",
       "75%        8.985000\n",
       "max       29.080000\n",
       "Name: Wind Speed, dtype: float64"
      ]
     },
     "execution_count": 63,
     "metadata": {},
     "output_type": "execute_result"
    }
   ],
   "source": [
    "#There does not appear to be any correlation between wind speed and latitude in the southern hemisphere. The r-value is very close to 0.\n",
    "swind.describe()\n"
   ]
  },
  {
   "cell_type": "code",
   "execution_count": 64,
   "metadata": {},
   "outputs": [],
   "source": [
    "#FINAL OBSERVATIONS. \n",
    "#1. The southern hemisphere does not have reliable trends compared to the northern hemisphere.\n",
    "#2. There is no correlation between cloudiness and latitude across both hemispheres.\n",
    "#3. As you get further away from the equator, the data becomes less predictable. \n",
    "#4. With climate change, I anticipate that it will be harder to predict data because ocean temperatures will rise and the polar ice caps will \n",
    "#   melt causing the weather trends all over the world to shift. There will be more extreme weather events like tornadoes, hurricanes, floods\n",
    "#   which can affect the humidity, wind speed and max temps and as ocean levels rise, coastal climates around the world will be forever changed."
   ]
  },
  {
   "cell_type": "code",
   "execution_count": 65,
   "metadata": {},
   "outputs": [],
   "source": [
    "#Sources:\n",
    "#1. https://www.thoughtco.com/northern-vs-southern-hemisphere-weather-3444434\n",
    "#2. https://en.wikipedia.org/wiki/Main_Page\n",
    "#3. https://www.thinglink.com/scene/709050972206268416\n",
    "#4. https://www.surveysystem.com/correlation.htm#:~:text=The%20main%20result%20of%20a,no%20relationship%20between%20the%20variables.\n",
    "#5. https://en.wikipedia.org/wiki/Linear_regression#:~:text=In%20statistics%2C%20linear%20regression%20is,as%20dependent%20and%20independent%20variables).&text=Linear%20regression%20has%20many%20practical%20uses.\n",
    "#6. https://www.geeksforgeeks.org/python-pandas-dataframe-describe-method/"
   ]
  }
 ],
 "metadata": {
  "anaconda-cloud": {},
  "interpreter": {
   "hash": "74495816103e634c56aeeeebfbbaa17d8d769039b8a7e7185e918ef94e593352"
  },
  "kernel_info": {
   "name": "python3"
  },
  "kernelspec": {
   "display_name": "mypydev",
   "language": "python",
   "name": "python3"
  },
  "language_info": {
   "codemirror_mode": {
    "name": "ipython",
    "version": 3
   },
   "file_extension": ".py",
   "mimetype": "text/x-python",
   "name": "python",
   "nbconvert_exporter": "python",
   "pygments_lexer": "ipython3",
   "version": "3.9.7"
  },
  "latex_envs": {
   "LaTeX_envs_menu_present": true,
   "autoclose": false,
   "autocomplete": true,
   "bibliofile": "biblio.bib",
   "cite_by": "apalike",
   "current_citInitial": 1,
   "eqLabelWithNumbers": true,
   "eqNumInitial": 1,
   "hotkeys": {
    "equation": "Ctrl-E",
    "itemize": "Ctrl-I"
   },
   "labels_anchors": false,
   "latex_user_defs": false,
   "report_style_numbering": false,
   "user_envs_cfg": false
  },
  "nteract": {
   "version": "0.12.3"
  }
 },
 "nbformat": 4,
 "nbformat_minor": 2
}
