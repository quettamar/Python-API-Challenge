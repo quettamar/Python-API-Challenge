{
 "cells": [
  {
   "cell_type": "markdown",
   "metadata": {},
   "source": [
    "# WeatherPy\n",
    "----\n",
    "\n",
    "#### Note\n",
    "* Instructions have been included for each segment. You do not have to follow them exactly, but they are included to help you think through the steps."
   ]
  },
  {
   "cell_type": "code",
   "execution_count": 1,
   "metadata": {
    "scrolled": true
   },
   "outputs": [],
   "source": [
    "# Dependencies and Setup\n",
    "import matplotlib.pyplot as plt\n",
    "import pandas as pd\n",
    "import numpy as np\n",
    "import requests\n",
    "import time\n",
    "from scipy.stats import linregress\n",
    "\n",
    "# Import API key\n",
    "from api_keys import weather_api_key\n",
    "\n",
    "# Incorporated citipy to determine city based on latitude and longitude\n",
    "from citipy import citipy\n",
    "\n",
    "#ask gretel if this is needed\n",
    "# Output File (CSV)\n",
    "#output_data_file = \"output_data/cities.csv\"\n",
    "\n",
    "# Range of latitudes and longitudes\n",
    "lat_range = (-90, 90)\n",
    "lng_range = (-180, 180)"
   ]
  },
  {
   "cell_type": "markdown",
   "metadata": {},
   "source": [
    "## Generate Cities List"
   ]
  },
  {
   "cell_type": "code",
   "execution_count": 2,
   "metadata": {},
   "outputs": [
    {
     "data": {
      "text/plain": [
       "618"
      ]
     },
     "execution_count": 2,
     "metadata": {},
     "output_type": "execute_result"
    }
   ],
   "source": [
    "# List for holding lat_lngs and cities\n",
    "lat_lngs = []\n",
    "cities = []\n",
    "\n",
    "# Create a set of random lat and lng combinations\n",
    "lats = np.random.uniform(lat_range[0], lat_range[1], size=1500)\n",
    "lngs = np.random.uniform(lng_range[0], lng_range[1], size=1500)\n",
    "lat_lngs = zip(lats, lngs)\n",
    "\n",
    "# Identify nearest city for each lat, lng combination\n",
    "for lat_lng in lat_lngs:\n",
    "    city = citipy.nearest_city(lat_lng[0], lat_lng[1]).city_name\n",
    "    \n",
    "    # If the city is unique, then add it to a our cities list\n",
    "    if city not in cities:\n",
    "        cities.append(city)\n",
    "\n",
    "# Print the city count to confirm sufficient count\n",
    "len(cities)"
   ]
  },
  {
   "cell_type": "markdown",
   "metadata": {},
   "source": [
    "### Perform API Calls\n",
    "* Perform a weather check on each city using a series of successive API calls.\n",
    "* Include a print log of each city as it'sbeing processed (with the city number and city name).\n",
    "\n",
    "> **HINT:** The OpenWeatherMap API only allows 60 calls per minute under their free plan. Try using `time.sleep(60)` after each set of 50 cities to avoid API errors due to large calls."
   ]
  },
  {
   "cell_type": "code",
   "execution_count": 3,
   "metadata": {
    "scrolled": true
   },
   "outputs": [],
   "source": [
    "url = \"http://api.openweathermap.org/data/2.5/weather?\"\n",
    "\n",
    "# Build query URL\n",
    "query_url = url + \"appid=\" + weather_api_key + \"&q=\"\n"
   ]
  },
  {
   "cell_type": "code",
   "execution_count": 4,
   "metadata": {},
   "outputs": [
    {
     "name": "stdout",
     "output_type": "stream",
     "text": [
      "http://api.openweathermap.org/data/2.5/weather?appid=15cb2043ba0bca628bcbf44aa8cd6e24&q=\n"
     ]
    }
   ],
   "source": [
    "print(query_url)"
   ]
  },
  {
   "cell_type": "code",
   "execution_count": 97,
   "metadata": {},
   "outputs": [
    {
     "name": "stdout",
     "output_type": "stream",
     "text": [
      "Retrieving Results for albany.\n",
      "Retrieving Results for elizabeth city.\n",
      "Retrieving Results for cayenne.\n",
      "Retrieving Results for cockburn town.\n",
      "Retrieving Results for port alfred.\n",
      "City not found. Skipping...\n",
      "Retrieving Results for mugur-aksy.\n",
      "Retrieving Results for nikolskoye.\n",
      "Retrieving Results for waddan.\n",
      "City not found. Skipping...\n",
      "Retrieving Results for adrar.\n",
      "Retrieving Results for portobelo.\n",
      "Retrieving Results for avarua.\n",
      "Retrieving Results for vostok.\n",
      "Retrieving Results for longyearbyen.\n",
      "Retrieving Results for rehau.\n",
      "Retrieving Results for atuona.\n",
      "Retrieving Results for airai.\n",
      "Retrieving Results for katsuura.\n",
      "Retrieving Results for oranjemund.\n",
      "Retrieving Results for gayeri.\n",
      "Retrieving Results for thompson.\n",
      "City not found. Skipping...\n",
      "Retrieving Results for punta arenas.\n",
      "Retrieving Results for gat.\n",
      "Retrieving Results for thinadhoo.\n",
      "Retrieving Results for mayo.\n",
      "Retrieving Results for pattensen.\n",
      "Retrieving Results for mataura.\n",
      "Retrieving Results for mount gambier.\n",
      "Retrieving Results for rikitea.\n",
      "Retrieving Results for gamba.\n",
      "Retrieving Results for taltal.\n",
      "Retrieving Results for busselton.\n",
      "Retrieving Results for lebedinyy.\n",
      "Retrieving Results for puerto ayora.\n",
      "Retrieving Results for provideniya.\n",
      "City not found. Skipping...\n",
      "Retrieving Results for severo-kurilsk.\n",
      "Retrieving Results for hami.\n",
      "Retrieving Results for manta.\n",
      "Retrieving Results for bandarbeyla.\n",
      "Retrieving Results for grand gaube.\n",
      "Retrieving Results for verkhoyansk.\n",
      "Retrieving Results for pisco.\n",
      "Retrieving Results for ushuaia.\n",
      "Retrieving Results for fortuna.\n",
      "Retrieving Results for butaritari.\n",
      "Retrieving Results for vaini.\n",
      "Retrieving Results for sola.\n",
      "Retrieving Results for lengshuitan.\n",
      "Retrieving Results for puerto rondon.\n",
      "Retrieving Results for chunoyar.\n",
      "City not found. Skipping...\n",
      "Retrieving Results for mahebourg.\n",
      "Retrieving Results for manitowoc.\n",
      "Retrieving Results for port elizabeth.\n",
      "Retrieving Results for bluff.\n",
      "Retrieving Results for yenagoa.\n",
      "Retrieving Results for purpe.\n",
      "Retrieving Results for hamilton.\n",
      "Retrieving Results for cape town.\n",
      "Retrieving Results for hilo.\n",
      "Retrieving Results for murray bridge.\n",
      "Retrieving Results for kamina.\n",
      "Retrieving Results for chuy.\n",
      "Retrieving Results for spring valley.\n",
      "Retrieving Results for praia da vitoria.\n",
      "Retrieving Results for isangel.\n",
      "City not found. Skipping...\n",
      "Retrieving Results for tromso.\n",
      "Retrieving Results for sergach.\n",
      "Retrieving Results for beloha.\n",
      "Retrieving Results for ndjole.\n",
      "Retrieving Results for poum.\n",
      "Retrieving Results for palmerston.\n",
      "Retrieving Results for mizan teferi.\n",
      "Retrieving Results for jamestown.\n",
      "City not found. Skipping...\n",
      "City not found. Skipping...\n",
      "Retrieving Results for ahipara.\n",
      "Retrieving Results for norman wells.\n",
      "Retrieving Results for guerrero negro.\n",
      "Retrieving Results for hermanus.\n",
      "Retrieving Results for honningsvag.\n",
      "City not found. Skipping...\n",
      "City not found. Skipping...\n",
      "Retrieving Results for barrow.\n",
      "Retrieving Results for chabahar.\n",
      "Retrieving Results for elko.\n",
      "City not found. Skipping...\n",
      "Retrieving Results for katherine.\n",
      "Retrieving Results for geraldton.\n",
      "Retrieving Results for yellowknife.\n",
      "Retrieving Results for paragominas.\n",
      "Retrieving Results for souillac.\n",
      "Retrieving Results for radhanpur.\n",
      "Retrieving Results for west plains.\n",
      "Retrieving Results for castro.\n",
      "Retrieving Results for yar-sale.\n",
      "Retrieving Results for leningradskiy.\n",
      "Retrieving Results for bredasdorp.\n",
      "Retrieving Results for pevek.\n",
      "Retrieving Results for avera.\n",
      "Retrieving Results for hobart.\n",
      "City not found. Skipping...\n",
      "Retrieving Results for kununurra.\n",
      "Retrieving Results for tiksi.\n",
      "Retrieving Results for goderich.\n",
      "City not found. Skipping...\n",
      "Retrieving Results for aksarka.\n",
      "Retrieving Results for mattru.\n",
      "Retrieving Results for saldanha.\n",
      "Retrieving Results for ribeira grande.\n",
      "Retrieving Results for los llanos de aridane.\n",
      "Retrieving Results for dandong.\n",
      "City not found. Skipping...\n",
      "Retrieving Results for tuktoyaktuk.\n",
      "Retrieving Results for saint george.\n",
      "Retrieving Results for kortkeros.\n",
      "Retrieving Results for takoradi.\n",
      "City not found. Skipping...\n",
      "Retrieving Results for concordia.\n",
      "Retrieving Results for lhokseumawe.\n",
      "Retrieving Results for hasaki.\n",
      "Retrieving Results for kapaa.\n",
      "Retrieving Results for northam.\n",
      "Retrieving Results for tilichiki.\n",
      "Retrieving Results for vrangel.\n",
      "Retrieving Results for puerto madero.\n",
      "Retrieving Results for bengkulu.\n",
      "Retrieving Results for esmeraldas.\n",
      "Retrieving Results for acapulco.\n",
      "Retrieving Results for senanga.\n",
      "Retrieving Results for la ronge.\n",
      "Retrieving Results for balezino.\n",
      "Retrieving Results for lorengau.\n",
      "Retrieving Results for nanortalik.\n",
      "Retrieving Results for nizwa.\n",
      "Retrieving Results for el alto.\n",
      "Retrieving Results for karratha.\n",
      "Retrieving Results for jardinopolis.\n",
      "Retrieving Results for bethel.\n",
      "Retrieving Results for valparaiso.\n",
      "Retrieving Results for la rioja.\n",
      "Retrieving Results for khatanga.\n",
      "Retrieving Results for urengoy.\n",
      "Retrieving Results for antalaha.\n",
      "City not found. Skipping...\n",
      "Retrieving Results for viedma.\n",
      "Retrieving Results for finschhafen.\n",
      "Retrieving Results for herat.\n",
      "Retrieving Results for kahului.\n",
      "Retrieving Results for padang.\n",
      "City not found. Skipping...\n",
      "Retrieving Results for olden.\n",
      "Retrieving Results for constitucion.\n",
      "Retrieving Results for halifax.\n",
      "Retrieving Results for caudry.\n",
      "Retrieving Results for thunder bay.\n",
      "Retrieving Results for spasskoye.\n",
      "Retrieving Results for caravelas.\n",
      "Retrieving Results for comodoro rivadavia.\n",
      "Retrieving Results for saint-philippe.\n",
      "Retrieving Results for peniche.\n",
      "Retrieving Results for agadir.\n",
      "Retrieving Results for ballina.\n",
      "Retrieving Results for tautira.\n",
      "Retrieving Results for georgetown.\n",
      "Retrieving Results for lebu.\n",
      "Retrieving Results for chicama.\n",
      "Retrieving Results for mahoba.\n",
      "Retrieving Results for te anau.\n",
      "Retrieving Results for noumea.\n",
      "Retrieving Results for searcy.\n",
      "Retrieving Results for east london.\n",
      "Retrieving Results for san patricio.\n",
      "Retrieving Results for olafsvik.\n",
      "Retrieving Results for nizhneudinsk.\n",
      "Retrieving Results for faya.\n",
      "Retrieving Results for vila velha.\n",
      "Retrieving Results for saskylakh.\n",
      "Retrieving Results for dikson.\n",
      "Retrieving Results for calabozo.\n",
      "Retrieving Results for college.\n",
      "Retrieving Results for hokitika.\n",
      "Retrieving Results for taoudenni.\n",
      "Retrieving Results for shangzhi.\n",
      "Retrieving Results for ponta do sol.\n",
      "Retrieving Results for kodiak.\n",
      "Retrieving Results for qaanaaq.\n",
      "Retrieving Results for jambi.\n",
      "Retrieving Results for alofi.\n",
      "Retrieving Results for porbandar.\n",
      "Retrieving Results for labrea.\n",
      "Retrieving Results for qui nhon.\n",
      "Retrieving Results for bentonville.\n",
      "Retrieving Results for great yarmouth.\n",
      "Retrieving Results for durango.\n",
      "Retrieving Results for yulara.\n",
      "Retrieving Results for tasiilaq.\n",
      "Retrieving Results for arraial do cabo.\n",
      "Retrieving Results for bambous virieux.\n",
      "Retrieving Results for mount isa.\n",
      "Retrieving Results for faanui.\n",
      "Retrieving Results for mehamn.\n",
      "City not found. Skipping...\n",
      "Retrieving Results for bashtanka.\n",
      "Retrieving Results for panzhihua.\n",
      "Retrieving Results for elat.\n",
      "City not found. Skipping...\n",
      "Retrieving Results for hithadhoo.\n",
      "Retrieving Results for zhangye.\n",
      "Retrieving Results for ancud.\n",
      "Retrieving Results for kavaratti.\n",
      "Retrieving Results for cabo san lucas.\n",
      "Retrieving Results for riihimaki.\n",
      "Retrieving Results for acarau.\n",
      "City not found. Skipping...\n",
      "City not found. Skipping...\n",
      "Retrieving Results for llata.\n",
      "Retrieving Results for czluchow.\n",
      "Retrieving Results for sao gabriel da cachoeira.\n",
      "Retrieving Results for xai-xai.\n",
      "Retrieving Results for tocopilla.\n",
      "City not found. Skipping...\n",
      "Retrieving Results for tessalit.\n",
      "Retrieving Results for ishigaki.\n",
      "Retrieving Results for salalah.\n",
      "Retrieving Results for sabang.\n",
      "Retrieving Results for dunedin.\n",
      "Retrieving Results for ilulissat.\n",
      "Retrieving Results for bathsheba.\n",
      "Retrieving Results for libertador general san martin.\n",
      "Retrieving Results for antofagasta.\n",
      "Retrieving Results for san quintin.\n",
      "Retrieving Results for atar.\n",
      "Retrieving Results for coquimbo.\n",
      "Retrieving Results for carnarvon.\n",
      "Retrieving Results for kattivakkam.\n",
      "Retrieving Results for shinjo.\n",
      "Retrieving Results for eganville.\n",
      "Retrieving Results for moron.\n",
      "Retrieving Results for new norfolk.\n",
      "Retrieving Results for rawson.\n",
      "Retrieving Results for portage.\n",
      "Retrieving Results for luganville.\n",
      "Retrieving Results for vanimo.\n",
      "Retrieving Results for mamallapuram.\n",
      "Retrieving Results for warrnambool.\n",
      "Retrieving Results for mukdahan.\n",
      "Retrieving Results for chokurdakh.\n",
      "Retrieving Results for narsaq.\n",
      "Retrieving Results for scottsbluff.\n",
      "Retrieving Results for ushtobe.\n",
      "Retrieving Results for vilhena.\n",
      "Retrieving Results for kavieng.\n",
      "Retrieving Results for harer.\n",
      "Retrieving Results for upernavik.\n",
      "Retrieving Results for serebryansk.\n",
      "Retrieving Results for iqaluit.\n",
      "Retrieving Results for cap malheureux.\n",
      "Retrieving Results for chiredzi.\n",
      "Retrieving Results for lagoa.\n",
      "Retrieving Results for waco.\n",
      "Retrieving Results for kasempa.\n",
      "Retrieving Results for riyadh.\n",
      "City not found. Skipping...\n",
      "Retrieving Results for behshahr.\n",
      "Retrieving Results for ostrovnoy.\n",
      "City not found. Skipping...\n",
      "Retrieving Results for margate.\n",
      "Retrieving Results for boa vista.\n",
      "Retrieving Results for mayahi.\n",
      "Retrieving Results for hovd.\n",
      "Retrieving Results for prince george.\n",
      "Retrieving Results for konongo.\n",
      "City not found. Skipping...\n",
      "Retrieving Results for kirkwood.\n",
      "Retrieving Results for kobyzhcha.\n",
      "Retrieving Results for calama.\n",
      "Retrieving Results for tuatapere.\n",
      "Retrieving Results for yerbogachen.\n",
      "City not found. Skipping...\n",
      "Retrieving Results for vila franca do campo.\n",
      "Retrieving Results for leh.\n",
      "Retrieving Results for morondava.\n",
      "Retrieving Results for san andres.\n",
      "Retrieving Results for grindavik.\n",
      "Retrieving Results for lopsmarka.\n",
      "Retrieving Results for kajaani.\n",
      "Retrieving Results for esperance.\n",
      "Retrieving Results for koping.\n",
      "Retrieving Results for sibu.\n",
      "City not found. Skipping...\n",
      "City not found. Skipping...\n",
      "Retrieving Results for nishihara.\n",
      "Retrieving Results for kaitangata.\n",
      "Retrieving Results for songea.\n",
      "Retrieving Results for makakilo city.\n",
      "Retrieving Results for klaksvik.\n",
      "Retrieving Results for nizhniy ufaley.\n",
      "Retrieving Results for rudnogorsk.\n",
      "Retrieving Results for sladkovo.\n",
      "Retrieving Results for lompoc.\n",
      "Retrieving Results for dingle.\n",
      "Retrieving Results for longjiang.\n",
      "Retrieving Results for makarov.\n",
      "City not found. Skipping...\n",
      "Retrieving Results for tumpat.\n",
      "Retrieving Results for mansa.\n",
      "Retrieving Results for kieta.\n",
      "Retrieving Results for torbay.\n",
      "Retrieving Results for port moresby.\n",
      "Retrieving Results for sobolevo.\n",
      "Retrieving Results for yumen.\n",
      "City not found. Skipping...\n",
      "Retrieving Results for hobyo.\n",
      "Retrieving Results for cidreira.\n",
      "Retrieving Results for umm kaddadah.\n",
      "Retrieving Results for tikhoretsk.\n",
      "Retrieving Results for namibe.\n",
      "Retrieving Results for nouadhibou.\n",
      "Retrieving Results for bronnoysund.\n",
      "Retrieving Results for salmas.\n",
      "Retrieving Results for repelon.\n",
      "Retrieving Results for sosnovo-ozerskoye.\n",
      "Retrieving Results for tual.\n",
      "Retrieving Results for muros.\n",
      "Retrieving Results for naze.\n",
      "Retrieving Results for suba.\n",
      "Retrieving Results for fairbanks.\n",
      "Retrieving Results for rafai.\n",
      "Retrieving Results for talnakh.\n",
      "Retrieving Results for lashio.\n",
      "Retrieving Results for angoche.\n",
      "Retrieving Results for kapiri mposhi.\n",
      "Retrieving Results for pangnirtung.\n",
      "Retrieving Results for erzin.\n",
      "Retrieving Results for alta floresta.\n",
      "Retrieving Results for wamba.\n",
      "Retrieving Results for luangwa.\n",
      "Retrieving Results for marawi.\n",
      "City not found. Skipping...\n",
      "Retrieving Results for katy.\n",
      "Retrieving Results for brae.\n",
      "Retrieving Results for lavrentiya.\n",
      "Retrieving Results for kruisfontein.\n",
      "Retrieving Results for awbari.\n",
      "Retrieving Results for shalya.\n",
      "Retrieving Results for port macquarie.\n",
      "Retrieving Results for el fuerte.\n",
      "Retrieving Results for carutapera.\n",
      "City not found. Skipping...\n",
      "Retrieving Results for paamiut.\n",
      "Retrieving Results for thung song.\n",
      "Retrieving Results for rio grande.\n",
      "Retrieving Results for mahibadhoo.\n",
      "Retrieving Results for upington.\n",
      "Retrieving Results for najran.\n",
      "Retrieving Results for urubicha.\n",
      "Retrieving Results for aswan.\n",
      "Retrieving Results for revelstoke.\n",
      "Retrieving Results for bac lieu.\n",
      "City not found. Skipping...\n",
      "Retrieving Results for esso.\n",
      "Retrieving Results for cherskiy.\n",
      "Retrieving Results for okha.\n",
      "Retrieving Results for ous.\n",
      "Retrieving Results for necochea.\n",
      "Retrieving Results for huntsville.\n",
      "Retrieving Results for manoel urbano.\n",
      "Retrieving Results for mogadishu.\n",
      "Retrieving Results for deputatskiy.\n",
      "Retrieving Results for joshimath.\n",
      "Retrieving Results for verden.\n",
      "Retrieving Results for oktyabrskoye.\n",
      "Retrieving Results for auki.\n",
      "Retrieving Results for rafraf.\n",
      "Retrieving Results for nemuro.\n",
      "Retrieving Results for biak.\n",
      "Retrieving Results for altagracia de orituco.\n",
      "Retrieving Results for imbituba.\n",
      "Retrieving Results for quatre cocos.\n",
      "Retrieving Results for sur.\n",
      "Retrieving Results for port hueneme.\n",
      "City not found. Skipping...\n",
      "Retrieving Results for port blair.\n",
      "Retrieving Results for skibbereen.\n",
      "Retrieving Results for tucuman.\n",
      "Retrieving Results for marsa matruh.\n",
      "Retrieving Results for waynesville.\n",
      "Retrieving Results for turayf.\n",
      "Retrieving Results for saryozek.\n",
      "Retrieving Results for pirai.\n",
      "Retrieving Results for pasir gudang.\n",
      "City not found. Skipping...\n",
      "Retrieving Results for boysun.\n",
      "Retrieving Results for mar del plata.\n",
      "Retrieving Results for esna.\n",
      "Retrieving Results for nuuk.\n",
      "Retrieving Results for dauphin.\n",
      "Retrieving Results for sambava.\n",
      "Retrieving Results for port lincoln.\n",
      "Retrieving Results for galveston.\n",
      "Retrieving Results for pervomayskiy.\n",
      "Retrieving Results for zapolyarnyy.\n",
      "Retrieving Results for terney.\n",
      "Retrieving Results for westport.\n",
      "Retrieving Results for shagonar.\n",
      "Retrieving Results for pirovskoye.\n",
      "Retrieving Results for khuzhir.\n",
      "Retrieving Results for albion.\n",
      "Retrieving Results for victoria.\n",
      "Retrieving Results for sao filipe.\n",
      "Retrieving Results for luderitz.\n",
      "Retrieving Results for codrington.\n",
      "Retrieving Results for ca mau.\n",
      "Retrieving Results for la palma.\n",
      "Retrieving Results for adamas.\n",
      "Retrieving Results for kristiansund.\n",
      "Retrieving Results for talaja.\n",
      "Retrieving Results for porto velho.\n",
      "Retrieving Results for hartselle.\n",
      "Retrieving Results for muisne.\n",
      "Retrieving Results for lazaro cardenas.\n",
      "Retrieving Results for akdepe.\n",
      "Retrieving Results for arraias.\n",
      "Retrieving Results for batagay-alyta.\n",
      "Retrieving Results for monrovia.\n",
      "Retrieving Results for shingu.\n",
      "Retrieving Results for atbasar.\n",
      "Retrieving Results for pacific grove.\n",
      "City not found. Skipping...\n",
      "Retrieving Results for bundibugyo.\n",
      "Retrieving Results for emba.\n",
      "Retrieving Results for rehoboth.\n",
      "Retrieving Results for saiha.\n",
      "Retrieving Results for kysyl-syr.\n",
      "Retrieving Results for malakal.\n",
      "Retrieving Results for aracuai.\n",
      "Retrieving Results for kibaya.\n",
      "Retrieving Results for seminole.\n",
      "Retrieving Results for colinas.\n",
      "Retrieving Results for sudak.\n",
      "Retrieving Results for roma.\n",
      "Retrieving Results for jalu.\n",
      "Retrieving Results for hailar.\n",
      "Retrieving Results for dicabisagan.\n",
      "Retrieving Results for raisen.\n",
      "Retrieving Results for tondano.\n",
      "Retrieving Results for kapit.\n",
      "Retrieving Results for ternate.\n",
      "Retrieving Results for udachnyy.\n",
      "Retrieving Results for hanna.\n",
      "Retrieving Results for garca.\n",
      "Retrieving Results for bongandanga.\n",
      "Retrieving Results for caxito.\n",
      "Retrieving Results for sao joao da barra.\n",
      "Retrieving Results for banfora.\n",
      "Retrieving Results for evensk.\n",
      "Retrieving Results for gorontalo.\n",
      "Retrieving Results for kamaishi.\n",
      "Retrieving Results for alekseyevka.\n",
      "Retrieving Results for ardakan.\n",
      "Retrieving Results for erenhot.\n",
      "Retrieving Results for omboue.\n",
      "Retrieving Results for sargatskoye.\n",
      "Retrieving Results for maroantsetra.\n",
      "Retrieving Results for sept-iles.\n",
      "Retrieving Results for nyurba.\n",
      "City not found. Skipping...\n",
      "Retrieving Results for macouria.\n",
      "Retrieving Results for birnin kebbi.\n",
      "Retrieving Results for boueni.\n",
      "Retrieving Results for elliot lake.\n",
      "Retrieving Results for tagab.\n",
      "Retrieving Results for shubarkuduk.\n",
      "Retrieving Results for havoysund.\n",
      "Retrieving Results for shubarshi.\n",
      "Retrieving Results for mikhaylovka.\n",
      "Retrieving Results for belmonte.\n",
      "Retrieving Results for la cruz.\n",
      "Retrieving Results for surt.\n",
      "Retrieving Results for sitka.\n",
      "Retrieving Results for haines junction.\n",
      "Retrieving Results for clyde river.\n",
      "Retrieving Results for yekaterinovka.\n",
      "Retrieving Results for key biscayne.\n",
      "Retrieving Results for gornopravdinsk.\n",
      "Retrieving Results for wajir.\n",
      "Retrieving Results for husavik.\n",
      "Retrieving Results for dorfen.\n",
      "Retrieving Results for remanso.\n",
      "Retrieving Results for vancouver.\n",
      "Retrieving Results for freeport.\n",
      "Retrieving Results for aljezur.\n",
      "Retrieving Results for xuddur.\n",
      "Retrieving Results for uberlandia.\n",
      "Retrieving Results for san.\n",
      "Retrieving Results for victoria point.\n",
      "Retrieving Results for concarneau.\n",
      "City not found. Skipping...\n",
      "Retrieving Results for juneau.\n",
      "Retrieving Results for shalazhi.\n",
      "Retrieving Results for touros.\n",
      "City not found. Skipping...\n",
      "Retrieving Results for cilegon.\n",
      "Retrieving Results for nizhnevartovsk.\n",
      "Retrieving Results for shimoda.\n",
      "Retrieving Results for liverpool.\n",
      "Retrieving Results for jaguaquara.\n",
      "Retrieving Results for samarai.\n",
      "City not found. Skipping...\n",
      "Retrieving Results for santa rosa.\n",
      "Retrieving Results for monticello.\n",
      "Retrieving Results for kimbe.\n",
      "Retrieving Results for ongandjera.\n",
      "Retrieving Results for hualmay.\n",
      "Retrieving Results for tommot.\n",
      "Retrieving Results for betioky.\n",
      "City not found. Skipping...\n",
      "Retrieving Results for fairlie.\n",
      "Retrieving Results for ayan.\n",
      "City not found. Skipping...\n",
      "Retrieving Results for kapuskasing.\n",
      "Retrieving Results for sangar.\n",
      "Retrieving Results for san cristobal.\n",
      "Retrieving Results for aasiaat.\n",
      "Retrieving Results for cabedelo.\n",
      "Retrieving Results for cap-aux-meules.\n",
      "Retrieving Results for sioux lookout.\n",
      "City not found. Skipping...\n",
      "Retrieving Results for mitu.\n",
      "Retrieving Results for nakonde.\n",
      "Retrieving Results for virginia beach.\n",
      "Retrieving Results for vardo.\n",
      "Retrieving Results for north bend.\n",
      "Retrieving Results for saint-pierre.\n",
      "Retrieving Results for saint-joseph.\n",
      "Retrieving Results for buala.\n",
      "Retrieving Results for nalbari.\n",
      "Retrieving Results for mandera.\n",
      "Retrieving Results for ibra.\n",
      "Retrieving Results for ngunguru.\n",
      "Retrieving Results for waingapu.\n",
      "Retrieving Results for banjar.\n",
      "Retrieving Results for javanrud.\n",
      "Retrieving Results for bang saphan.\n",
      "Retrieving Results for ust-kuyga.\n",
      "Retrieving Results for rajshahi.\n",
      "City not found. Skipping...\n",
      "Retrieving Results for ambilobe.\n",
      "Retrieving Results for sao felix do xingu.\n",
      "Retrieving Results for yuryevets.\n",
      "Retrieving Results for natitingou.\n",
      "Retrieving Results for ucluelet.\n",
      "Retrieving Results for santa maria.\n",
      "City not found. Skipping...\n",
      "Retrieving Results for belyy yar.\n",
      "Retrieving Results for puerto quijarro.\n",
      "Retrieving Results for port hedland.\n",
      "Retrieving Results for iquique.\n",
      "Retrieving Results for grenville.\n",
      "Retrieving Results for ulladulla.\n",
      "Retrieving Results for fonte boa.\n",
      "Retrieving Results for fortaleza.\n",
      "Retrieving Results for vao.\n",
      "Retrieving Results for newport.\n",
      "Retrieving Results for soma.\n",
      "Retrieving Results for azur.\n",
      "Retrieving Results for west fargo.\n",
      "Retrieving Results for san felipe.\n",
      "Retrieving Results for matale.\n",
      "Retrieving Results for verkh-usugli.\n",
      "Retrieving Results for keetmanshoop.\n",
      "Retrieving Results for la rochelle.\n",
      "Retrieving Results for lishui.\n",
      "Retrieving Results for chapais.\n",
      "Retrieving Results for emerald.\n",
      "Retrieving Results for tsurib.\n",
      "Retrieving Results for vestmannaeyjar.\n",
      "Retrieving Results for craig.\n",
      "Retrieving Results for sarh.\n",
      "Retrieving Results for key west.\n",
      "Retrieving Results for tobermory.\n",
      "Retrieving Results for syzran.\n",
      "Retrieving Results for aklavik.\n",
      "Retrieving Results for sault sainte marie.\n",
      "Retrieving Results for petropavlovsk-kamchatskiy.\n",
      "City not found. Skipping...\n",
      "Retrieving Results for billings.\n",
      "Retrieving Results for wanxian.\n",
      "City not found. Skipping...\n",
      "Retrieving Results for morki.\n",
      "Retrieving Results for macedo de cavaleiros.\n",
      "Retrieving Results for rijeka.\n",
      "Retrieving Results for chimbote.\n",
      "Retrieving Results for kawhia.\n",
      "Retrieving Results for akyab.\n",
      "Retrieving Results for watrous.\n",
      "Retrieving Results for la libertad.\n",
      "Retrieving Results for sabancuy.\n",
      "Retrieving Results for sirtich.\n",
      "Retrieving Results for lakes entrance.\n",
      "Retrieving Results for ekhabi.\n",
      "Retrieving Results for raga.\n",
      "Retrieving Results for birmitrapur.\n",
      "Retrieving Results for mombetsu.\n",
      "Retrieving Results for luena.\n",
      "Retrieving Results for araouane.\n",
      "Retrieving Results for ixtapa.\n",
      "Retrieving Results for akureyri.\n",
      "Retrieving Results for half moon bay.\n",
      "Retrieving Results for bonfim.\n",
      "Retrieving Results for bilibino.\n",
      "Retrieving Results for palana.\n",
      "Retrieving Results for grand-santi.\n"
     ]
    }
   ],
   "source": [
    "# set up lists to hold reponse info\n",
    "lat = []\n",
    "lng = []\n",
    "temp = []\n",
    "new_cities = []\n",
    "humidity = []\n",
    "max_temp = []\n",
    "cloudiness = []\n",
    "wind_speed = []\n",
    "country = []\n",
    "date = []\n",
    "\n",
    "\n",
    "# Loop through the list of cities and perform a request for data on each\n",
    "for city in cities:\n",
    "    try:\n",
    "        response = requests.get(query_url + city + '&units=imperial')\n",
    "        # print(city)\n",
    "        # print(response.content)\n",
    "        response_json = response.json()\n",
    "        lat.append(response_json['coord']['lat'])\n",
    "        lng.append(response_json['coord']['lon'])\n",
    "        temp.append(response_json['main']['temp_max'])\n",
    "        humidity.append(response_json['main']['humidity'])\n",
    "        wind_speed.append(response_json['wind']['speed'])\n",
    "        cloudiness.append(response_json['clouds']['all'])\n",
    "        country.append(response_json['sys']['country'])\n",
    "        date.append(response_json['dt'])\n",
    "        new_cities.append(city)\n",
    "        print(f\"Retrieving Results for {city}.\")\n",
    "        #print(f\"{city} has been added to the weather data.\")\n",
    "    except:\n",
    "        print(f\"City not found. Skipping...\")"
   ]
  },
  {
   "cell_type": "markdown",
   "metadata": {},
   "source": [
    "### Convert Raw Data to DataFrame\n",
    "* Export the city data into a .csv.\n",
    "* Display the DataFrame"
   ]
  },
  {
   "cell_type": "code",
   "execution_count": 98,
   "metadata": {},
   "outputs": [
    {
     "data": {
      "text/html": [
       "<div>\n",
       "<style scoped>\n",
       "    .dataframe tbody tr th:only-of-type {\n",
       "        vertical-align: middle;\n",
       "    }\n",
       "\n",
       "    .dataframe tbody tr th {\n",
       "        vertical-align: top;\n",
       "    }\n",
       "\n",
       "    .dataframe thead th {\n",
       "        text-align: right;\n",
       "    }\n",
       "</style>\n",
       "<table border=\"1\" class=\"dataframe\">\n",
       "  <thead>\n",
       "    <tr style=\"text-align: right;\">\n",
       "      <th></th>\n",
       "      <th>City</th>\n",
       "      <th>Lat</th>\n",
       "      <th>Lng</th>\n",
       "      <th>Max Temp</th>\n",
       "      <th>Humidity</th>\n",
       "      <th>Cloudiness</th>\n",
       "      <th>Wind Speed</th>\n",
       "      <th>Country</th>\n",
       "      <th>Date</th>\n",
       "    </tr>\n",
       "  </thead>\n",
       "  <tbody>\n",
       "    <tr>\n",
       "      <th>0</th>\n",
       "      <td>Albany</td>\n",
       "      <td>42.6001</td>\n",
       "      <td>-73.9662</td>\n",
       "      <td>20.43</td>\n",
       "      <td>76</td>\n",
       "      <td>11</td>\n",
       "      <td>3.24</td>\n",
       "      <td>US</td>\n",
       "      <td>1644204868</td>\n",
       "    </tr>\n",
       "    <tr>\n",
       "      <th>1</th>\n",
       "      <td>Elizabeth City</td>\n",
       "      <td>36.2946</td>\n",
       "      <td>-76.2511</td>\n",
       "      <td>41.05</td>\n",
       "      <td>84</td>\n",
       "      <td>100</td>\n",
       "      <td>10.36</td>\n",
       "      <td>US</td>\n",
       "      <td>1644205049</td>\n",
       "    </tr>\n",
       "    <tr>\n",
       "      <th>2</th>\n",
       "      <td>Cayenne</td>\n",
       "      <td>4.9333</td>\n",
       "      <td>-52.3333</td>\n",
       "      <td>80.10</td>\n",
       "      <td>87</td>\n",
       "      <td>75</td>\n",
       "      <td>3.00</td>\n",
       "      <td>GF</td>\n",
       "      <td>1644205119</td>\n",
       "    </tr>\n",
       "    <tr>\n",
       "      <th>3</th>\n",
       "      <td>Cockburn Town</td>\n",
       "      <td>21.4612</td>\n",
       "      <td>-71.1419</td>\n",
       "      <td>75.81</td>\n",
       "      <td>77</td>\n",
       "      <td>0</td>\n",
       "      <td>15.39</td>\n",
       "      <td>TC</td>\n",
       "      <td>1644204907</td>\n",
       "    </tr>\n",
       "    <tr>\n",
       "      <th>4</th>\n",
       "      <td>Port Alfred</td>\n",
       "      <td>-33.5906</td>\n",
       "      <td>26.8910</td>\n",
       "      <td>72.93</td>\n",
       "      <td>79</td>\n",
       "      <td>82</td>\n",
       "      <td>4.97</td>\n",
       "      <td>ZA</td>\n",
       "      <td>1644204555</td>\n",
       "    </tr>\n",
       "    <tr>\n",
       "      <th>...</th>\n",
       "      <td>...</td>\n",
       "      <td>...</td>\n",
       "      <td>...</td>\n",
       "      <td>...</td>\n",
       "      <td>...</td>\n",
       "      <td>...</td>\n",
       "      <td>...</td>\n",
       "      <td>...</td>\n",
       "      <td>...</td>\n",
       "    </tr>\n",
       "    <tr>\n",
       "      <th>566</th>\n",
       "      <td>Half Moon Bay</td>\n",
       "      <td>37.4636</td>\n",
       "      <td>-122.4286</td>\n",
       "      <td>59.25</td>\n",
       "      <td>72</td>\n",
       "      <td>100</td>\n",
       "      <td>9.22</td>\n",
       "      <td>US</td>\n",
       "      <td>1644205342</td>\n",
       "    </tr>\n",
       "    <tr>\n",
       "      <th>567</th>\n",
       "      <td>Bonfim</td>\n",
       "      <td>3.0833</td>\n",
       "      <td>-59.9500</td>\n",
       "      <td>77.00</td>\n",
       "      <td>79</td>\n",
       "      <td>94</td>\n",
       "      <td>7.14</td>\n",
       "      <td>BR</td>\n",
       "      <td>1644205342</td>\n",
       "    </tr>\n",
       "    <tr>\n",
       "      <th>568</th>\n",
       "      <td>Bilibino</td>\n",
       "      <td>68.0546</td>\n",
       "      <td>166.4372</td>\n",
       "      <td>-12.50</td>\n",
       "      <td>77</td>\n",
       "      <td>18</td>\n",
       "      <td>4.41</td>\n",
       "      <td>RU</td>\n",
       "      <td>1644205343</td>\n",
       "    </tr>\n",
       "    <tr>\n",
       "      <th>569</th>\n",
       "      <td>Palana</td>\n",
       "      <td>59.1167</td>\n",
       "      <td>159.9667</td>\n",
       "      <td>14.22</td>\n",
       "      <td>77</td>\n",
       "      <td>67</td>\n",
       "      <td>8.90</td>\n",
       "      <td>RU</td>\n",
       "      <td>1644205343</td>\n",
       "    </tr>\n",
       "    <tr>\n",
       "      <th>570</th>\n",
       "      <td>Grand-Santi</td>\n",
       "      <td>4.2500</td>\n",
       "      <td>-54.3833</td>\n",
       "      <td>72.19</td>\n",
       "      <td>100</td>\n",
       "      <td>100</td>\n",
       "      <td>0.87</td>\n",
       "      <td>GF</td>\n",
       "      <td>1644205343</td>\n",
       "    </tr>\n",
       "  </tbody>\n",
       "</table>\n",
       "<p>571 rows × 9 columns</p>\n",
       "</div>"
      ],
      "text/plain": [
       "               City      Lat       Lng  Max Temp  Humidity  Cloudiness  \\\n",
       "0            Albany  42.6001  -73.9662     20.43        76          11   \n",
       "1    Elizabeth City  36.2946  -76.2511     41.05        84         100   \n",
       "2           Cayenne   4.9333  -52.3333     80.10        87          75   \n",
       "3     Cockburn Town  21.4612  -71.1419     75.81        77           0   \n",
       "4       Port Alfred -33.5906   26.8910     72.93        79          82   \n",
       "..              ...      ...       ...       ...       ...         ...   \n",
       "566   Half Moon Bay  37.4636 -122.4286     59.25        72         100   \n",
       "567          Bonfim   3.0833  -59.9500     77.00        79          94   \n",
       "568        Bilibino  68.0546  166.4372    -12.50        77          18   \n",
       "569          Palana  59.1167  159.9667     14.22        77          67   \n",
       "570     Grand-Santi   4.2500  -54.3833     72.19       100         100   \n",
       "\n",
       "     Wind Speed Country        Date  \n",
       "0          3.24      US  1644204868  \n",
       "1         10.36      US  1644205049  \n",
       "2          3.00      GF  1644205119  \n",
       "3         15.39      TC  1644204907  \n",
       "4          4.97      ZA  1644204555  \n",
       "..          ...     ...         ...  \n",
       "566        9.22      US  1644205342  \n",
       "567        7.14      BR  1644205342  \n",
       "568        4.41      RU  1644205343  \n",
       "569        8.90      RU  1644205343  \n",
       "570        0.87      GF  1644205343  \n",
       "\n",
       "[571 rows x 9 columns]"
      ]
     },
     "execution_count": 98,
     "metadata": {},
     "output_type": "execute_result"
    }
   ],
   "source": [
    "weather_dict = {\n",
    "    \"City\": new_cities,\n",
    "    \"Lat\": lat,\n",
    "    \"Lng\": lng,\n",
    "    \"Max Temp\": temp,\n",
    "    \"Humidity\": humidity,\n",
    "    \"Cloudiness\": cloudiness,\n",
    "    \"Wind Speed\": wind_speed,\n",
    "    \"Country\": country,\n",
    "    \"Date\": date\n",
    "}\n",
    "\n",
    "#change to F and MPH\n",
    "weather_data = pd.DataFrame(weather_dict)\n",
    "weather_data['City'] = weather_data['City'].str.title()\n",
    "weather_data['Max Temp'] = weather_data['Max Temp']\n",
    "weather_data.to_csv('weather_data.csv')\n",
    "weather_data"
   ]
  },
  {
   "cell_type": "code",
   "execution_count": 99,
   "metadata": {},
   "outputs": [
    {
     "data": {
      "text/html": [
       "<div>\n",
       "<style scoped>\n",
       "    .dataframe tbody tr th:only-of-type {\n",
       "        vertical-align: middle;\n",
       "    }\n",
       "\n",
       "    .dataframe tbody tr th {\n",
       "        vertical-align: top;\n",
       "    }\n",
       "\n",
       "    .dataframe thead th {\n",
       "        text-align: right;\n",
       "    }\n",
       "</style>\n",
       "<table border=\"1\" class=\"dataframe\">\n",
       "  <thead>\n",
       "    <tr style=\"text-align: right;\">\n",
       "      <th></th>\n",
       "      <th>Lat</th>\n",
       "      <th>Lng</th>\n",
       "      <th>Max Temp</th>\n",
       "      <th>Humidity</th>\n",
       "      <th>Cloudiness</th>\n",
       "      <th>Wind Speed</th>\n",
       "      <th>Date</th>\n",
       "    </tr>\n",
       "  </thead>\n",
       "  <tbody>\n",
       "    <tr>\n",
       "      <th>count</th>\n",
       "      <td>571.000000</td>\n",
       "      <td>571.000000</td>\n",
       "      <td>571.000000</td>\n",
       "      <td>571.000000</td>\n",
       "      <td>571.000000</td>\n",
       "      <td>571.000000</td>\n",
       "      <td>5.710000e+02</td>\n",
       "    </tr>\n",
       "    <tr>\n",
       "      <th>mean</th>\n",
       "      <td>19.696969</td>\n",
       "      <td>18.357785</td>\n",
       "      <td>49.405271</td>\n",
       "      <td>74.593695</td>\n",
       "      <td>56.232925</td>\n",
       "      <td>7.901734</td>\n",
       "      <td>1.644205e+09</td>\n",
       "    </tr>\n",
       "    <tr>\n",
       "      <th>std</th>\n",
       "      <td>33.213132</td>\n",
       "      <td>89.319880</td>\n",
       "      <td>30.839255</td>\n",
       "      <td>20.569085</td>\n",
       "      <td>40.391766</td>\n",
       "      <td>7.088925</td>\n",
       "      <td>1.402381e+02</td>\n",
       "    </tr>\n",
       "    <tr>\n",
       "      <th>min</th>\n",
       "      <td>-54.800000</td>\n",
       "      <td>-175.200000</td>\n",
       "      <td>-40.270000</td>\n",
       "      <td>11.000000</td>\n",
       "      <td>0.000000</td>\n",
       "      <td>0.000000</td>\n",
       "      <td>1.644204e+09</td>\n",
       "    </tr>\n",
       "    <tr>\n",
       "      <th>25%</th>\n",
       "      <td>-8.803250</td>\n",
       "      <td>-63.284550</td>\n",
       "      <td>29.275000</td>\n",
       "      <td>66.000000</td>\n",
       "      <td>12.000000</td>\n",
       "      <td>3.440000</td>\n",
       "      <td>1.644205e+09</td>\n",
       "    </tr>\n",
       "    <tr>\n",
       "      <th>50%</th>\n",
       "      <td>22.933300</td>\n",
       "      <td>24.662200</td>\n",
       "      <td>59.970000</td>\n",
       "      <td>79.000000</td>\n",
       "      <td>68.000000</td>\n",
       "      <td>6.170000</td>\n",
       "      <td>1.644205e+09</td>\n",
       "    </tr>\n",
       "    <tr>\n",
       "      <th>75%</th>\n",
       "      <td>48.493650</td>\n",
       "      <td>96.236050</td>\n",
       "      <td>74.265000</td>\n",
       "      <td>90.000000</td>\n",
       "      <td>99.000000</td>\n",
       "      <td>10.360000</td>\n",
       "      <td>1.644205e+09</td>\n",
       "    </tr>\n",
       "    <tr>\n",
       "      <th>max</th>\n",
       "      <td>78.218600</td>\n",
       "      <td>178.416700</td>\n",
       "      <td>94.320000</td>\n",
       "      <td>100.000000</td>\n",
       "      <td>100.000000</td>\n",
       "      <td>63.040000</td>\n",
       "      <td>1.644205e+09</td>\n",
       "    </tr>\n",
       "  </tbody>\n",
       "</table>\n",
       "</div>"
      ],
      "text/plain": [
       "              Lat         Lng    Max Temp    Humidity  Cloudiness  Wind Speed  \\\n",
       "count  571.000000  571.000000  571.000000  571.000000  571.000000  571.000000   \n",
       "mean    19.696969   18.357785   49.405271   74.593695   56.232925    7.901734   \n",
       "std     33.213132   89.319880   30.839255   20.569085   40.391766    7.088925   \n",
       "min    -54.800000 -175.200000  -40.270000   11.000000    0.000000    0.000000   \n",
       "25%     -8.803250  -63.284550   29.275000   66.000000   12.000000    3.440000   \n",
       "50%     22.933300   24.662200   59.970000   79.000000   68.000000    6.170000   \n",
       "75%     48.493650   96.236050   74.265000   90.000000   99.000000   10.360000   \n",
       "max     78.218600  178.416700   94.320000  100.000000  100.000000   63.040000   \n",
       "\n",
       "               Date  \n",
       "count  5.710000e+02  \n",
       "mean   1.644205e+09  \n",
       "std    1.402381e+02  \n",
       "min    1.644204e+09  \n",
       "25%    1.644205e+09  \n",
       "50%    1.644205e+09  \n",
       "75%    1.644205e+09  \n",
       "max    1.644205e+09  "
      ]
     },
     "execution_count": 99,
     "metadata": {},
     "output_type": "execute_result"
    }
   ],
   "source": [
    "weather_data.describe()"
   ]
  },
  {
   "cell_type": "markdown",
   "metadata": {},
   "source": [
    "## Inspect the data and remove the cities where the humidity > 100%.\n",
    "----\n",
    "Skip this step if there are no cities that have humidity > 100%. "
   ]
  },
  {
   "cell_type": "code",
   "execution_count": 100,
   "metadata": {},
   "outputs": [],
   "source": [
    "#I skipped this step because there were no cities with humidity over 100%."
   ]
  },
  {
   "cell_type": "markdown",
   "metadata": {},
   "source": [
    "## Plotting the Data\n",
    "* Use proper labeling of the plots using plot titles (including date of analysis) and axes labels.\n",
    "* Save the plotted figures as .pngs."
   ]
  },
  {
   "cell_type": "markdown",
   "metadata": {},
   "source": [
    "## Latitude vs. Temperature Plot"
   ]
  },
  {
   "cell_type": "code",
   "execution_count": 101,
   "metadata": {},
   "outputs": [],
   "source": [
    "#this is setting up the variables for the visualizations\n",
    "latitude = weather_data[\"Lat\"]\n",
    "humidity = weather_data['Humidity']\n",
    "maxtemp = weather_data['Max Temp']\n",
    "clouds = weather_data['Cloudiness']\n",
    "windspeed = weather_data['Wind Speed']"
   ]
  },
  {
   "cell_type": "code",
   "execution_count": 102,
   "metadata": {},
   "outputs": [
    {
     "data": {
      "image/png": "[encoded data removed]",
      "text/plain": [
       "<Figure size 432x288 with 1 Axes>"
      ]
     },
     "metadata": {
      "needs_background": "light"
     },
     "output_type": "display_data"
    }
   ],
   "source": [
    "plt.scatter(latitude, maxtemp)\n",
    "plt.xlabel('Latitude')\n",
    "plt.ylabel('Max Temperature (F)')\n",
    "plt.title('City Latitude vs Max Temperature')\n",
    "plt.grid()\n",
    "plt.savefig('Images/lat_vs_temp.png')\n",
    "plt.show()"
   ]
  },
  {
   "cell_type": "code",
   "execution_count": 103,
   "metadata": {
    "scrolled": true
   },
   "outputs": [],
   "source": [
    "#After analyzing the data, there does appear to be a correlation between latitude and the max temperatures. The temperatures around the equator are the highest\n",
    "#which is expected and the lower temperatures are near the polar caps. It would make sense that the north pole would be colder seeing as it is a frozen ocean\n",
    "#compared to a frozen landmass like Antarctica."
   ]
  },
  {
   "cell_type": "markdown",
   "metadata": {},
   "source": [
    "## Latitude vs. Humidity Plot"
   ]
  },
  {
   "cell_type": "code",
   "execution_count": 104,
   "metadata": {},
   "outputs": [
    {
     "data": {
      "image/png": "[encoded data removed]",
      "text/plain": [
       "<Figure size 432x288 with 1 Axes>"
      ]
     },
     "metadata": {
      "needs_background": "light"
     },
     "output_type": "display_data"
    }
   ],
   "source": [
    "plt.scatter(latitude, humidity)\n",
    "plt.xlabel('Latitude')\n",
    "plt.ylabel('Humidity')\n",
    "plt.title('City Latitude vs Humidity')\n",
    "plt.grid()\n",
    "plt.savefig('Images/lat_vs_humidity.png')\n",
    "plt.show()"
   ]
  },
  {
   "cell_type": "code",
   "execution_count": 105,
   "metadata": {},
   "outputs": [],
   "source": [
    "#At first, there didn't appear to be any kind of correlation between latitude and humidity but after\n",
    "#looking at a world map, the outliers between 0 and 40 degrees latitude could include the Saharan Desert\n",
    "#which explains the big dips in humidity. At -20 degrees latitude there is another outlier that could\n",
    "#be explained by one of the test cities being in Australia or South Africa. Other than those outliers,\n",
    "#there is not an apparent correlation between latitude and humidity."
   ]
  },
  {
   "cell_type": "markdown",
   "metadata": {},
   "source": [
    "## Latitude vs. Cloudiness Plot"
   ]
  },
  {
   "cell_type": "code",
   "execution_count": 106,
   "metadata": {},
   "outputs": [
    {
     "data": {
      "image/png": "[encoded data removed]",
      "text/plain": [
       "<Figure size 432x288 with 1 Axes>"
      ]
     },
     "metadata": {
      "needs_background": "light"
     },
     "output_type": "display_data"
    }
   ],
   "source": [
    "plt.scatter(latitude, clouds)\n",
    "plt.xlabel('Latitude')\n",
    "plt.ylabel('Cloudiness')\n",
    "plt.title('City Latitude vs Cloudiness')\n",
    "plt.grid()\n",
    "plt.savefig('Images/lat_vs_cloudiness.png')\n",
    "plt.show()"
   ]
  },
  {
   "cell_type": "code",
   "execution_count": 107,
   "metadata": {},
   "outputs": [],
   "source": [
    "#For cloudiness versus latitude, there is no correlation. At any given latitude, cloudiness\n",
    "#data covers the full available range. For example, the equator includes data from areas \n",
    "#like Brazil and Indonesia which get a lot of rainfall, therefore, more clouds. There are also areas \n",
    "#which include deserts that don't have a lot of clouds.\n"
   ]
  },
  {
   "cell_type": "markdown",
   "metadata": {},
   "source": [
    "## Latitude vs. Wind Speed Plot"
   ]
  },
  {
   "cell_type": "code",
   "execution_count": 108,
   "metadata": {},
   "outputs": [
    {
     "data": {
      "image/png": "[encoded data removed]",
      "text/plain": [
       "<Figure size 432x288 with 1 Axes>"
      ]
     },
     "metadata": {
      "needs_background": "light"
     },
     "output_type": "display_data"
    }
   ],
   "source": [
    "\n",
    "plt.scatter(latitude, windspeed)\n",
    "plt.xlabel('Latitude')\n",
    "plt.ylabel('Wind Speed (MPH)')\n",
    "plt.title('City Latitude vs Wind Speed')\n",
    "plt.grid()\n",
    "plt.savefig('Images/lat_vs_windspeed.png')\n",
    "plt.show()"
   ]
  },
  {
   "cell_type": "code",
   "execution_count": 109,
   "metadata": {},
   "outputs": [],
   "source": [
    "#add a sentence or two explaining what the code is analyzing."
   ]
  },
  {
   "cell_type": "markdown",
   "metadata": {},
   "source": [
    "## Linear Regression"
   ]
  },
  {
   "cell_type": "code",
   "execution_count": 110,
   "metadata": {},
   "outputs": [],
   "source": [
    "#Here I created two different dataframes for the Northern and Southern Hemispheres\n",
    "northern_df = weather_data.loc[weather_data[\"Lat\"] >= 0]\n",
    "southern_df = weather_data.loc[weather_data['Lat'] < 0]\n",
    "\n",
    "#Here I created the different varaibles based on the Northern and Southern Hemispheres\n",
    "ntemp = northern_df['Max Temp']\n",
    "stemp = southern_df['Max Temp']\n",
    "nlat = northern_df[\"Lat\"]\n",
    "slat =southern_df[\"Lat\"]\n",
    "nhumid = northern_df[\"Humidity\"]\n",
    "shumid = southern_df[\"Humidity\"]\n",
    "ncloud = northern_df[\"Cloudiness\"]\n",
    "scloud = southern_df[\"Cloudiness\"]\n",
    "nwind = northern_df[\"Wind Speed\"]\n",
    "swind = southern_df[\"Wind Speed\"]"
   ]
  },
  {
   "cell_type": "markdown",
   "metadata": {},
   "source": [
    "####  Northern Hemisphere - Max Temp vs. Latitude Linear Regression"
   ]
  },
  {
   "cell_type": "code",
   "execution_count": 111,
   "metadata": {},
   "outputs": [
    {
     "name": "stdout",
     "output_type": "stream",
     "text": [
      "The r-value is: 0.7658947756093905\n"
     ]
    },
    {
     "data": {
      "image/png": "[encoded data removed]",
      "text/plain": [
       "<Figure size 432x288 with 1 Axes>"
      ]
     },
     "metadata": {
      "needs_background": "light"
     },
     "output_type": "display_data"
    }
   ],
   "source": [
    "(slope, intercept, rvalue, pvalue, stderr) = linregress(nlat, ntemp)\n",
    "regress_values = nlat * slope + intercept\n",
    "line_eq = \"y = \" + str(round(slope,2)) + \"x + \" + str(round(intercept,2))\n",
    "plt.scatter(nlat, ntemp)\n",
    "plt.xlabel('Latitude')\n",
    "plt.ylabel('Max Temp (F)')\n",
    "plt.title('City Latitude vs Max Temp in the Northern Hemisphere')\n",
    "plt.plot(nlat, regress_values,\"r-\")\n",
    "plt.annotate(line_eq,(5,-30),fontsize=15,color=\"purple\")\n",
    "plt.grid()\n",
    "print(f\"The r-value is: {rvalue**2}\")\n",
    "plt.savefig('Images/northernlat_vs_temp.png')\n",
    "plt.show()"
   ]
  },
  {
   "cell_type": "code",
   "execution_count": 112,
   "metadata": {},
   "outputs": [],
   "source": [
    "#include observations. explain what the linear regression is modeling. For example, describe any relationships you notice and any other analysis you may have."
   ]
  },
  {
   "cell_type": "markdown",
   "metadata": {},
   "source": [
    "####  Southern Hemisphere - Max Temp vs. Latitude Linear Regression"
   ]
  },
  {
   "cell_type": "code",
   "execution_count": 113,
   "metadata": {},
   "outputs": [
    {
     "name": "stdout",
     "output_type": "stream",
     "text": [
      "The r-value is: 0.14677047297919396\n"
     ]
    },
    {
     "data": {
      "image/png": "[encoded data removed]",
      "text/plain": [
       "<Figure size 432x288 with 1 Axes>"
      ]
     },
     "metadata": {
      "needs_background": "light"
     },
     "output_type": "display_data"
    }
   ],
   "source": [
    "(slope, intercept, rvalue, pvalue, stderr) = linregress(slat, stemp)\n",
    "regress_values = slat * slope + intercept\n",
    "line_eq = \"y = \" + str(round(slope,2)) + \"x + \" + str(round(intercept,2))\n",
    "plt.scatter(slat, stemp)\n",
    "plt.xlabel('Latitude')\n",
    "plt.ylabel('Max Temp (F)')\n",
    "plt.title('City Latitude vs Max Temp in the Southern Hemisphere')\n",
    "plt.plot(slat, regress_values,\"r-\")\n",
    "plt.annotate(line_eq,(5,-30),fontsize=15,color=\"purple\")\n",
    "plt.grid()\n",
    "print(f\"The r-value is: {rvalue**2}\")\n",
    "plt.savefig('Images/southernlat_vs_temp.png')\n",
    "plt.show()"
   ]
  },
  {
   "cell_type": "code",
   "execution_count": 114,
   "metadata": {},
   "outputs": [],
   "source": [
    "#include observations here"
   ]
  },
  {
   "cell_type": "markdown",
   "metadata": {},
   "source": [
    "####  Northern Hemisphere - Humidity (%) vs. Latitude Linear Regression"
   ]
  },
  {
   "cell_type": "code",
   "execution_count": 115,
   "metadata": {},
   "outputs": [
    {
     "name": "stdout",
     "output_type": "stream",
     "text": [
      "The r-value is: 0.17459120625802158\n"
     ]
    },
    {
     "data": {
      "image/png": "[encoded data removed]",
      "text/plain": [
       "<Figure size 432x288 with 1 Axes>"
      ]
     },
     "metadata": {
      "needs_background": "light"
     },
     "output_type": "display_data"
    }
   ],
   "source": [
    "(slope, intercept, rvalue, pvalue, stderr) = linregress(nlat, nhumid)\n",
    "regress_values = nlat * slope + intercept\n",
    "line_eq = \"y = \" + str(round(slope,2)) + \"x + \" + str(round(intercept,2))\n",
    "plt.scatter(nlat, nhumid)\n",
    "plt.xlabel('Latitude')\n",
    "plt.ylabel('Humidity')\n",
    "plt.title('City Latitude vs Humidity in the Northern Hemisphere')\n",
    "plt.plot(nlat, regress_values,\"r-\")\n",
    "plt.annotate(line_eq,(40, 10),fontsize=15,color=\"purple\")\n",
    "plt.grid()\n",
    "print(f\"The r-value is: {rvalue**2}\")\n",
    "plt.savefig('Images/northernlat_vs_humidity.png')\n",
    "plt.show()"
   ]
  },
  {
   "cell_type": "code",
   "execution_count": 116,
   "metadata": {},
   "outputs": [],
   "source": [
    "#include observations here"
   ]
  },
  {
   "cell_type": "markdown",
   "metadata": {},
   "source": [
    "####  Southern Hemisphere - Humidity (%) vs. Latitude Linear Regression"
   ]
  },
  {
   "cell_type": "code",
   "execution_count": 117,
   "metadata": {},
   "outputs": [
    {
     "name": "stdout",
     "output_type": "stream",
     "text": [
      "The r-value is: 0.11524920644928999\n"
     ]
    },
    {
     "data": {
      "image/png": "[encoded data removed]",
      "text/plain": [
       "<Figure size 432x288 with 1 Axes>"
      ]
     },
     "metadata": {
      "needs_background": "light"
     },
     "output_type": "display_data"
    }
   ],
   "source": [
    "(slope, intercept, rvalue, pvalue, stderr) = linregress(slat, shumid)\n",
    "regress_values = slat * slope + intercept\n",
    "line_eq = \"y = \" + str(round(slope,2)) + \"x + \" + str(round(intercept,2))\n",
    "plt.scatter(slat, shumid)\n",
    "plt.xlabel('Latitude')\n",
    "plt.ylabel('Humidity')\n",
    "plt.title('City Latitude vs Humidity in the Southern Hemisphere')\n",
    "plt.plot(slat, regress_values,\"r-\")\n",
    "plt.annotate(line_eq,(-25, 15),fontsize=15,color=\"purple\")\n",
    "plt.grid()\n",
    "print(f\"The r-value is: {rvalue**2}\")\n",
    "plt.savefig('Images/southernlat_vs_humidity.png')\n",
    "plt.show()"
   ]
  },
  {
   "cell_type": "markdown",
   "metadata": {},
   "source": [
    "####  Northern Hemisphere - Cloudiness (%) vs. Latitude Linear Regression"
   ]
  },
  {
   "cell_type": "code",
   "execution_count": 118,
   "metadata": {},
   "outputs": [
    {
     "name": "stdout",
     "output_type": "stream",
     "text": [
      "The r-value is: 0.043898768490213284\n"
     ]
    },
    {
     "data": {
      "image/png": "[encoded data removed]",
      "text/plain": [
       "<Figure size 432x288 with 1 Axes>"
      ]
     },
     "metadata": {
      "needs_background": "light"
     },
     "output_type": "display_data"
    }
   ],
   "source": [
    "(slope, intercept, rvalue, pvalue, stderr) = linregress(nlat, ncloud)\n",
    "regress_values = nlat * slope + intercept\n",
    "line_eq = \"y = \" + str(round(slope,2)) + \"x + \" + str(round(intercept,2))\n",
    "plt.scatter(nlat, ncloud)\n",
    "plt.xlabel('Latitude')\n",
    "plt.ylabel('Cloudiness')\n",
    "plt.title('City Latitude vs Cloudiness in the Northern Hemisphere')\n",
    "plt.plot(nlat, regress_values,\"r-\")\n",
    "plt.annotate(line_eq,(40, 45),fontsize=15,color=\"purple\")\n",
    "plt.grid()\n",
    "print(f\"The r-value is: {rvalue**2}\")\n",
    "plt.savefig('Images/northernlat_vs_cloudiness.png')\n",
    "plt.show()"
   ]
  },
  {
   "cell_type": "code",
   "execution_count": 119,
   "metadata": {},
   "outputs": [],
   "source": [
    "#insert observations here"
   ]
  },
  {
   "cell_type": "markdown",
   "metadata": {},
   "source": [
    "####  Southern Hemisphere - Cloudiness (%) vs. Latitude Linear Regression"
   ]
  },
  {
   "cell_type": "code",
   "execution_count": 120,
   "metadata": {},
   "outputs": [
    {
     "name": "stdout",
     "output_type": "stream",
     "text": [
      "The r-value is: 0.18092898489957734\n"
     ]
    },
    {
     "data": {
      "image/png": "[encoded data removed]",
      "text/plain": [
       "<Figure size 432x288 with 1 Axes>"
      ]
     },
     "metadata": {
      "needs_background": "light"
     },
     "output_type": "display_data"
    }
   ],
   "source": [
    "(slope, intercept, rvalue, pvalue, stderr) = linregress(slat, scloud)\n",
    "regress_values = slat * slope + intercept\n",
    "line_eq = \"y = \" + str(round(slope,2)) + \"x + \" + str(round(intercept,2))\n",
    "plt.scatter(slat, scloud)\n",
    "plt.xlabel('Latitude')\n",
    "plt.ylabel('Cloudiness')\n",
    "plt.title('City Latitude vs Cloudiness in the Southern Hemisphere')\n",
    "plt.plot(slat, regress_values,\"r-\")\n",
    "plt.annotate(line_eq,(-50, 65),fontsize=15,color=\"purple\")\n",
    "plt.grid()\n",
    "print(f\"The r-value is: {rvalue**2}\")\n",
    "plt.savefig('Images/southernlat_vs_cloudiness.png')\n",
    "plt.show()"
   ]
  },
  {
   "cell_type": "code",
   "execution_count": 121,
   "metadata": {},
   "outputs": [],
   "source": [
    "#insert observations here"
   ]
  },
  {
   "cell_type": "markdown",
   "metadata": {},
   "source": [
    "####  Northern Hemisphere - Wind Speed (mph) vs. Latitude Linear Regression"
   ]
  },
  {
   "cell_type": "code",
   "execution_count": 122,
   "metadata": {},
   "outputs": [
    {
     "name": "stdout",
     "output_type": "stream",
     "text": [
      "The r-value is: 0.026747963805442213\n"
     ]
    },
    {
     "data": {
      "image/png": "[encoded data removed]",
      "text/plain": [
       "<Figure size 432x288 with 1 Axes>"
      ]
     },
     "metadata": {
      "needs_background": "light"
     },
     "output_type": "display_data"
    }
   ],
   "source": [
    "(slope, intercept, rvalue, pvalue, stderr) = linregress(nlat, nwind)\n",
    "regress_values = nlat * slope + intercept\n",
    "line_eq = \"y = \" + str(round(slope,2)) + \"x + \" + str(round(intercept,2))\n",
    "plt.scatter(nlat, nwind)\n",
    "plt.xlabel('Latitude')\n",
    "plt.ylabel('Wind Speed (MPH)')\n",
    "plt.title('City Latitude vs Wind Speed in the Northern Hemisphere')\n",
    "plt.plot(nlat, regress_values,\"r-\")\n",
    "plt.annotate(line_eq,(0, 40),fontsize=15,color=\"purple\")\n",
    "plt.grid()\n",
    "print(f\"The r-value is: {rvalue**2}\")\n",
    "plt.savefig('Images/northernlat_vs_windspeed.png')\n",
    "plt.show()"
   ]
  },
  {
   "cell_type": "code",
   "execution_count": 123,
   "metadata": {},
   "outputs": [],
   "source": [
    "#insert observations here"
   ]
  },
  {
   "cell_type": "markdown",
   "metadata": {},
   "source": [
    "####  Southern Hemisphere - Wind Speed (mph) vs. Latitude Linear Regression"
   ]
  },
  {
   "cell_type": "code",
   "execution_count": 124,
   "metadata": {},
   "outputs": [
    {
     "name": "stdout",
     "output_type": "stream",
     "text": [
      "The r-value is: 0.07205832294552993\n"
     ]
    },
    {
     "data": {
      "image/png": "[encoded data removed]",
      "text/plain": [
       "<Figure size 432x288 with 1 Axes>"
      ]
     },
     "metadata": {
      "needs_background": "light"
     },
     "output_type": "display_data"
    }
   ],
   "source": [
    "(slope, intercept, rvalue, pvalue, stderr) = linregress(slat, swind)\n",
    "regress_values = slat * slope + intercept\n",
    "line_eq = \"y = \" + str(round(slope,2)) + \"x + \" + str(round(intercept,2))\n",
    "plt.scatter(slat, swind)\n",
    "plt.xlabel('Latitude')\n",
    "plt.ylabel('Wind Speed (MPH)')\n",
    "plt.title('City Latitude vs Wind Speed in the Southern Hemisphere')\n",
    "plt.plot(slat, regress_values,\"r-\")\n",
    "plt.annotate(line_eq,(-50, 25),fontsize=15,color=\"purple\")\n",
    "plt.grid()\n",
    "print(f\"The r-value is: {rvalue**2}\")\n",
    "plt.savefig('Images/southernlat_vs_windspeed.png')\n",
    "plt.show()"
   ]
  },
  {
   "cell_type": "code",
   "execution_count": 125,
   "metadata": {},
   "outputs": [],
   "source": [
    "#insert observations here"
   ]
  }
 ],
 "metadata": {
  "anaconda-cloud": {},
  "interpreter": {
   "hash": "74495816103e634c56aeeeebfbbaa17d8d769039b8a7e7185e918ef94e593352"
  },
  "kernel_info": {
   "name": "python3"
  },
  "kernelspec": {
   "display_name": "mypydev",
   "language": "python",
   "name": "python3"
  },
  "language_info": {
   "codemirror_mode": {
    "name": "ipython",
    "version": 3
   },
   "file_extension": ".py",
   "mimetype": "text/x-python",
   "name": "python",
   "nbconvert_exporter": "python",
   "pygments_lexer": "ipython3",
   "version": "3.9.7"
  },
  "latex_envs": {
   "LaTeX_envs_menu_present": true,
   "autoclose": false,
   "autocomplete": true,
   "bibliofile": "biblio.bib",
   "cite_by": "apalike",
   "current_citInitial": 1,
   "eqLabelWithNumbers": true,
   "eqNumInitial": 1,
   "hotkeys": {
    "equation": "Ctrl-E",
    "itemize": "Ctrl-I"
   },
   "labels_anchors": false,
   "latex_user_defs": false,
   "report_style_numbering": false,
   "user_envs_cfg": false
  },
  "nteract": {
   "version": "0.12.3"
  }
 },
 "nbformat": 4,
 "nbformat_minor": 2
}
